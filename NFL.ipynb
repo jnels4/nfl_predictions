{
  "nbformat": 4,
  "nbformat_minor": 0,
  "metadata": {
    "colab": {
      "name": "NFL.ipynb",
      "provenance": [],
      "collapsed_sections": []
    },
    "kernelspec": {
      "name": "python3",
      "display_name": "Python 3"
    },
    "language_info": {
      "name": "python"
    }
  },
  "cells": [
    {
      "cell_type": "code",
      "execution_count": 5,
      "metadata": {
        "colab": {
          "base_uri": "https://localhost:8080/"
        },
        "id": "xfWpPVHmZr1Z",
        "outputId": "6e7464dd-22b9-4a28-e280-43d390ce222a"
      },
      "outputs": [
        {
          "output_type": "stream",
          "name": "stdout",
          "text": [
            "\r0% [Working]\r            \rHit:1 http://archive.ubuntu.com/ubuntu bionic InRelease\n",
            "\r0% [Waiting for headers] [Connecting to security.ubuntu.com] [Waiting for heade\r                                                                               \rGet:2 http://archive.ubuntu.com/ubuntu bionic-updates InRelease [88.7 kB]\n",
            "\r                                                                               \rGet:3 https://cloud.r-project.org/bin/linux/ubuntu bionic-cran40/ InRelease [3,626 B]\n",
            "Get:4 http://archive.ubuntu.com/ubuntu bionic-backports InRelease [74.6 kB]\n",
            "Get:5 http://ppa.launchpad.net/c2d4u.team/c2d4u4.0+/ubuntu bionic InRelease [15.9 kB]\n",
            "Ign:6 https://developer.download.nvidia.com/compute/machine-learning/repos/ubuntu1804/x86_64  InRelease\n",
            "Get:7 https://developer.download.nvidia.com/compute/cuda/repos/ubuntu1804/x86_64  InRelease [1,581 B]\n",
            "Get:8 http://security.ubuntu.com/ubuntu bionic-security InRelease [88.7 kB]\n",
            "Hit:9 https://developer.download.nvidia.com/compute/machine-learning/repos/ubuntu1804/x86_64  Release\n",
            "Hit:10 http://ppa.launchpad.net/cran/libgit2/ubuntu bionic InRelease\n",
            "Get:11 https://cloud.r-project.org/bin/linux/ubuntu bionic-cran40/ Packages [91.1 kB]\n",
            "Hit:12 http://ppa.launchpad.net/deadsnakes/ppa/ubuntu bionic InRelease\n",
            "Get:13 http://archive.ubuntu.com/ubuntu bionic-updates/main amd64 Packages [3,369 kB]\n",
            "Get:14 http://archive.ubuntu.com/ubuntu bionic-updates/universe amd64 Packages [2,311 kB]\n",
            "Hit:15 http://ppa.launchpad.net/graphics-drivers/ppa/ubuntu bionic InRelease\n",
            "Get:16 https://developer.download.nvidia.com/compute/cuda/repos/ubuntu1804/x86_64  Packages [912 kB]\n",
            "Get:18 http://ppa.launchpad.net/c2d4u.team/c2d4u4.0+/ubuntu bionic/main Sources [2,093 kB]\n",
            "Get:19 http://security.ubuntu.com/ubuntu bionic-security/universe amd64 Packages [1,534 kB]\n",
            "Get:20 http://security.ubuntu.com/ubuntu bionic-security/main amd64 Packages [2,939 kB]\n",
            "Get:21 http://ppa.launchpad.net/c2d4u.team/c2d4u4.0+/ubuntu bionic/main amd64 Packages [1,073 kB]\n",
            "Fetched 14.6 MB in 3s (5,596 kB/s)\n",
            "Reading package lists... Done\n"
          ]
        }
      ],
      "source": [
        "import os\n",
        "spark_version = 'spark-3.2.2'\n",
        "os.environ['SPARK_VERSION']=spark_version\n",
        "# Install Spark and Java\n",
        "!apt-get update\n",
        "!apt-get install openjdk-11-jdk-headless -qq > /dev/null\n",
        "!wget -q http://www.apache.org/dist/spark/$SPARK_VERSION/$SPARK_VERSION-bin-hadoop3.2.tgz\n",
        "!tar xf $SPARK_VERSION-bin-hadoop3.2.tgz\n",
        "!pip install -q findspark\n",
        "# Set Environment Variables\n",
        "import os\n",
        "os.environ[\"JAVA_HOME\"] = \"/usr/lib/jvm/java-11-openjdk-amd64\"\n",
        "os.environ[\"SPARK_HOME\"] = f\"/content/{spark_version}-bin-hadoop3.2\"\n",
        "# Start a SparkSession\n",
        "import findspark\n",
        "findspark.init()"
      ]
    },
    {
      "cell_type": "code",
      "source": [
        "# Download the Postgres driver that will allow Spark to interact with Postgres.\n",
        "!wget https://jdbc.postgresql.org/download/postgresql-42.2.16.jar"
      ],
      "metadata": {
        "colab": {
          "base_uri": "https://localhost:8080/"
        },
        "id": "TMreBmxxaLu8",
        "outputId": "ded1b5c9-e0d6-4a5e-b814-ae2ff9769937"
      },
      "execution_count": 6,
      "outputs": [
        {
          "output_type": "stream",
          "name": "stdout",
          "text": [
            "--2022-08-29 20:22:21--  https://jdbc.postgresql.org/download/postgresql-42.2.16.jar\n",
            "Resolving jdbc.postgresql.org (jdbc.postgresql.org)... 72.32.157.228, 2001:4800:3e1:1::228\n",
            "Connecting to jdbc.postgresql.org (jdbc.postgresql.org)|72.32.157.228|:443... connected.\n",
            "HTTP request sent, awaiting response... 200 OK\n",
            "Length: 1002883 (979K) [application/java-archive]\n",
            "Saving to: ‘postgresql-42.2.16.jar’\n",
            "\n",
            "postgresql-42.2.16. 100%[===================>] 979.38K  5.42MB/s    in 0.2s    \n",
            "\n",
            "2022-08-29 20:22:22 (5.42 MB/s) - ‘postgresql-42.2.16.jar’ saved [1002883/1002883]\n",
            "\n"
          ]
        }
      ]
    },
    {
      "cell_type": "code",
      "source": [
        "from pyspark.sql import SparkSession\n",
        "spark = SparkSession.builder.appName(\"NFL-Prediction\").config(\"spark.driver.extraClassPath\",\"/content/postgresql-42.2.16.jar\").getOrCreate()"
      ],
      "metadata": {
        "id": "3SwoiEFFaOaq"
      },
      "execution_count": 7,
      "outputs": []
    },
    {
      "cell_type": "code",
      "source": [
        "from pyspark import SparkFiles\n",
        "url = \"https://nflpredictionsdataviz.s3.amazonaws.com/spreadspoke_scores.csv\"\n",
        "spark.sparkContext.addFile(url)\n",
        "NFL_Guru_df = spark.read.option(\"encoding\", \"UTF-8\").csv(SparkFiles.get(\"spreadspoke_scores.csv\"), sep=\",\", header=True, inferSchema=True)\n",
        "NFL_Guru_df.show()"
      ],
      "metadata": {
        "colab": {
          "base_uri": "https://localhost:8080/"
        },
        "id": "03nTUBGPag4c",
        "outputId": "44f016f9-ed82-43b4-ca97-2001ff3d3f9f"
      },
      "execution_count": 8,
      "outputs": [
        {
          "output_type": "stream",
          "name": "stdout",
          "text": [
            "+-------------+---------------+-------------+----------------+-------------------+----------+----------+--------------------+----------------+---------------+---------------+--------------------+---------------+-------------------+----------------+----------------+--------------+\n",
            "|schedule_date|schedule_season|schedule_week|schedule_playoff|          team_home|score_home|score_away|           team_away|team_favorite_id|spread_favorite|over_under_line|             stadium|stadium_neutral|weather_temperature|weather_wind_mph|weather_humidity|weather_detail|\n",
            "+-------------+---------------+-------------+----------------+-------------------+----------+----------+--------------------+----------------+---------------+---------------+--------------------+---------------+-------------------+----------------+----------------+--------------+\n",
            "|     9/2/1966|           1966|            1|           false|     Miami Dolphins|        14|        23|     Oakland Raiders|            null|           null|           null|         Orange Bowl|          false|                 83|               6|              71|          null|\n",
            "|     9/3/1966|           1966|            1|           false|     Houston Oilers|        45|         7|      Denver Broncos|            null|           null|           null|        Rice Stadium|          false|                 81|               7|              70|          null|\n",
            "|     9/4/1966|           1966|            1|           false| San Diego Chargers|        27|         7|       Buffalo Bills|            null|           null|           null|      Balboa Stadium|          false|                 70|               7|              82|          null|\n",
            "|     9/9/1966|           1966|            2|           false|     Miami Dolphins|        14|        19|       New York Jets|            null|           null|           null|         Orange Bowl|          false|                 82|              11|              78|          null|\n",
            "|    9/10/1966|           1966|            1|           false|  Green Bay Packers|        24|         3|     Baltimore Colts|            null|           null|           null|       Lambeau Field|          false|                 64|               8|              62|          null|\n",
            "|    9/10/1966|           1966|            2|           false|     Houston Oilers|        31|         0|     Oakland Raiders|            null|           null|           null|        Rice Stadium|          false|                 77|               6|              82|          null|\n",
            "|    9/10/1966|           1966|            2|           false| San Diego Chargers|        24|         0|New England Patriots|            null|           null|           null|      Balboa Stadium|          false|                 69|               9|              81|          null|\n",
            "|    9/11/1966|           1966|            1|           false|    Atlanta Falcons|        14|        19|    Los Angeles Rams|            null|           null|           null|Atlanta-Fulton Co...|          false|                 71|               7|              57|          null|\n",
            "|    9/11/1966|           1966|            2|           false|      Buffalo Bills|        20|        42|  Kansas City Chiefs|            null|           null|           null|War Memorial Stadium|          false|                 63|              11|              73|          null|\n",
            "|    9/11/1966|           1966|            1|           false|      Detroit Lions|        14|         3|       Chicago Bears|            null|           null|           null|       Tiger Stadium|          false|                 67|               7|              73|          null|\n",
            "|    9/11/1966|           1966|            1|           false|Pittsburgh Steelers|        34|        34|     New York Giants|            null|           null|           null|        Pitt Stadium|          false|                 64|               5|              70|          null|\n",
            "|    9/11/1966|           1966|            1|           false|San Francisco 49ers|        20|        20|   Minnesota Vikings|            null|           null|           null|       Kezar Stadium|          false|                 60|              25|              75|          null|\n",
            "|    9/11/1966|           1966|            1|           false|St. Louis Cardinals|        16|        13| Philadelphia Eagles|            null|           null|           null|Busch Memorial St...|          false|                 72|               5|              70|          null|\n",
            "|    9/11/1966|           1966|            1|           false|Washington Redskins|        14|        38|    Cleveland Browns|            null|           null|           null|RFK Memorial Stadium|          false|                 65|               8|              52|          null|\n",
            "|    9/16/1966|           1966|            2|           false|   Los Angeles Rams|        31|        17|       Chicago Bears|            null|           null|           null|Los Angeles Memor...|          false|                 72|              10|              52|          null|\n",
            "|    9/18/1966|           1966|            3|           false|      Buffalo Bills|        58|        24|      Miami Dolphins|            null|           null|           null|War Memorial Stadium|          false|                 61|               3|              67|          null|\n",
            "|    9/18/1966|           1966|            2|           false|   Cleveland Browns|        20|        21|   Green Bay Packers|            null|           null|           null|Cleveland Municip...|          false|                 62|               6|              57|          null|\n",
            "|    9/18/1966|           1966|            2|           false|     Dallas Cowboys|        52|         7|     New York Giants|            null|           null|           null|         Cotton Bowl|          false|                 72|               9|              82|          null|\n",
            "|    9/18/1966|           1966|            3|           false|     Denver Broncos|        10|        24|New England Patriots|            null|           null|           null|   Mile High Stadium|          false|                 59|               7|              53|          null|\n",
            "|    9/18/1966|           1966|            2|           false|  Minnesota Vikings|        23|        38|     Baltimore Colts|            null|           null|           null|Metropolitan Stadium|          false|                 60|               4|              64|          null|\n",
            "+-------------+---------------+-------------+----------------+-------------------+----------+----------+--------------------+----------------+---------------+---------------+--------------------+---------------+-------------------+----------------+----------------+--------------+\n",
            "only showing top 20 rows\n",
            "\n"
          ]
        }
      ]
    },
    {
      "cell_type": "code",
      "source": [
        "NFL_Guru_df.printSchema()"
      ],
      "metadata": {
        "colab": {
          "base_uri": "https://localhost:8080/"
        },
        "id": "6zWjOrU2bNl7",
        "outputId": "ba2fc382-4636-4611-d25c-774ca743d8f2"
      },
      "execution_count": 9,
      "outputs": [
        {
          "output_type": "stream",
          "name": "stdout",
          "text": [
            "root\n",
            " |-- schedule_date: string (nullable = true)\n",
            " |-- schedule_season: integer (nullable = true)\n",
            " |-- schedule_week: string (nullable = true)\n",
            " |-- schedule_playoff: boolean (nullable = true)\n",
            " |-- team_home: string (nullable = true)\n",
            " |-- score_home: integer (nullable = true)\n",
            " |-- score_away: integer (nullable = true)\n",
            " |-- team_away: string (nullable = true)\n",
            " |-- team_favorite_id: string (nullable = true)\n",
            " |-- spread_favorite: double (nullable = true)\n",
            " |-- over_under_line: string (nullable = true)\n",
            " |-- stadium: string (nullable = true)\n",
            " |-- stadium_neutral: boolean (nullable = true)\n",
            " |-- weather_temperature: integer (nullable = true)\n",
            " |-- weather_wind_mph: integer (nullable = true)\n",
            " |-- weather_humidity: integer (nullable = true)\n",
            " |-- weather_detail: string (nullable = true)\n",
            "\n"
          ]
        }
      ]
    },
    {
      "cell_type": "code",
      "source": [
        "NFL_guru_current = NFL_Guru_df.where(NFL_Guru_df.schedule_season>1978)\n",
        "NFL_guru_current.show()"
      ],
      "metadata": {
        "colab": {
          "base_uri": "https://localhost:8080/"
        },
        "id": "WPZYsnLWfChk",
        "outputId": "2e302300-c10b-47dd-b0b9-a7c143c7ab23"
      },
      "execution_count": 10,
      "outputs": [
        {
          "output_type": "stream",
          "name": "stdout",
          "text": [
            "+-------------+---------------+-------------+----------------+--------------------+----------+----------+--------------------+----------------+---------------+---------------+--------------------+---------------+-------------------+----------------+----------------+--------------+\n",
            "|schedule_date|schedule_season|schedule_week|schedule_playoff|           team_home|score_home|score_away|           team_away|team_favorite_id|spread_favorite|over_under_line|             stadium|stadium_neutral|weather_temperature|weather_wind_mph|weather_humidity|weather_detail|\n",
            "+-------------+---------------+-------------+----------------+--------------------+----------+----------+--------------------+----------------+---------------+---------------+--------------------+---------------+-------------------+----------------+----------------+--------------+\n",
            "|     9/1/1979|           1979|            1|           false|Tampa Bay Buccaneers|        31|        16|       Detroit Lions|              TB|           -3.0|             30|  Houlihan's Stadium|          false|                 79|               9|              87|          null|\n",
            "|     9/2/1979|           1979|            1|           false|       Buffalo Bills|         7|         9|      Miami Dolphins|             MIA|           -5.0|             39|Ralph Wilson Stadium|          false|                 74|              15|              74|          null|\n",
            "|     9/2/1979|           1979|            1|           false|       Chicago Bears|         6|         3|   Green Bay Packers|             CHI|           -3.0|             31|       Soldier Field|          false|                 78|              11|              68|          null|\n",
            "|     9/2/1979|           1979|            1|           false|      Denver Broncos|        10|         0|  Cincinnati Bengals|             DEN|           -3.0|           31.5|   Mile High Stadium|          false|                 69|               6|              38|          null|\n",
            "|     9/2/1979|           1979|            1|           false|  Kansas City Chiefs|        14|         0|     Baltimore Colts|              KC|           -1.0|             37|   Arrowhead Stadium|          false|                 76|               8|              71|          null|\n",
            "|     9/2/1979|           1979|            1|           false|    Los Angeles Rams|        17|        24|     Oakland Raiders|             LAR|           -4.0|           36.5|     Anaheim Stadium|          false|                 70|              10|              77|          null|\n",
            "|     9/2/1979|           1979|            1|           false|   Minnesota Vikings|        28|        22| San Francisco 49ers|             MIN|           -7.0|             32|Metropolitan Stadium|          false|                 70|              11|              67|          null|\n",
            "|     9/2/1979|           1979|            1|           false|  New Orleans Saints|        34|        40|     Atlanta Falcons|              NO|           -5.0|             32| Louisiana Superdome|          false|                 72|               0|            null|          DOME|\n",
            "|     9/2/1979|           1979|            1|           false|       New York Jets|        22|        25|    Cleveland Browns|             NYJ|           -2.0|             41|      Giants Stadium|          false|                 73|              10|              76|          null|\n",
            "|     9/2/1979|           1979|            1|           false| Philadelphia Eagles|        23|        17|     New York Giants|             PHI|           -7.0|           31.5|    Veterans Stadium|          false|                 76|               9|              84|          null|\n",
            "|     9/2/1979|           1979|            1|           false|    Seattle Seahawks|        16|        33|  San Diego Chargers|             SEA|           -2.0|           42.5|    Seattle Kingdome|          false|                 72|               0|            null|          DOME|\n",
            "|     9/2/1979|           1979|            1|           false| St. Louis Cardinals|        21|        22|      Dallas Cowboys|             DAL|           -4.0|             37|Busch Memorial St...|          false|                 76|               7|              73|          null|\n",
            "|     9/2/1979|           1979|            1|           false| Washington Redskins|        27|        29|      Houston Oilers|             TEN|           -4.0|             33|RFK Memorial Stadium|          false|                 80|              11|              85|          null|\n",
            "|     9/3/1979|           1979|            1|           false|New England Patriots|        13|        16| Pittsburgh Steelers|             PIT|           -2.0|             37|     Foxboro Stadium|          false|                 78|              13|              80|          null|\n",
            "|     9/6/1979|           1979|            2|           false|      Denver Broncos|         9|        13|    Los Angeles Rams|             DEN|           -2.0|           31.5|   Mile High Stadium|          false|                 67|               8|              50|          null|\n",
            "|     9/9/1979|           1979|            2|           false|     Baltimore Colts|        26|        29|Tampa Bay Buccaneers|            PICK|            0.0|             33|Memorial Stadium ...|          false|                 64|               8|              65|          null|\n",
            "|     9/9/1979|           1979|            2|           false|       Buffalo Bills|        51|        24|  Cincinnati Bengals|             CIN|           -3.0|             34|Ralph Wilson Stadium|          false|                 54|               7|              63|          null|\n",
            "|     9/9/1979|           1979|            2|           false|       Chicago Bears|        26|         7|   Minnesota Vikings|             CHI|           -6.0|           31.5|       Soldier Field|          false|                 60|              11|              64|          null|\n",
            "|     9/9/1979|           1979|            2|           false|       Detroit Lions|        24|        27| Washington Redskins|            PICK|            0.0|           35.5|  Pontiac Silverdome|          false|                 72|               0|            null|          DOME|\n",
            "|     9/9/1979|           1979|            2|           false|   Green Bay Packers|        28|        19|  New Orleans Saints|              GB|           -3.0|             35|       Lambeau Field|          false|                 60|              13|              71|          null|\n",
            "+-------------+---------------+-------------+----------------+--------------------+----------+----------+--------------------+----------------+---------------+---------------+--------------------+---------------+-------------------+----------------+----------------+--------------+\n",
            "only showing top 20 rows\n",
            "\n"
          ]
        }
      ]
    },
    {
      "cell_type": "code",
      "source": [
        "from pyspark.sql import functions as F\n",
        "\n",
        "NFL_guru_wins = NFL_guru_current.withColumn('home_win',\n",
        "                                            F.when((F.col('score_home')>F.col('score_away')), 2)\\\n",
        "                                            .when((F.col('score_home')<F.col('score_away')), 1).otherwise(0)                                   \n",
        "                                            )\n",
        "NFL_guru_wins.show()"
      ],
      "metadata": {
        "colab": {
          "base_uri": "https://localhost:8080/"
        },
        "id": "uBsfzJBtPLl1",
        "outputId": "77064aea-80f8-4580-89cf-2c71f388f661"
      },
      "execution_count": 18,
      "outputs": [
        {
          "output_type": "stream",
          "name": "stdout",
          "text": [
            "+-------------+---------------+-------------+----------------+--------------------+----------+----------+--------------------+----------------+---------------+---------------+--------------------+---------------+-------------------+----------------+----------------+--------------+--------+\n",
            "|schedule_date|schedule_season|schedule_week|schedule_playoff|           team_home|score_home|score_away|           team_away|team_favorite_id|spread_favorite|over_under_line|             stadium|stadium_neutral|weather_temperature|weather_wind_mph|weather_humidity|weather_detail|home_win|\n",
            "+-------------+---------------+-------------+----------------+--------------------+----------+----------+--------------------+----------------+---------------+---------------+--------------------+---------------+-------------------+----------------+----------------+--------------+--------+\n",
            "|     9/1/1979|           1979|            1|           false|Tampa Bay Buccaneers|        31|        16|       Detroit Lions|              TB|           -3.0|             30|  Houlihan's Stadium|          false|                 79|               9|              87|          null|       2|\n",
            "|     9/2/1979|           1979|            1|           false|       Buffalo Bills|         7|         9|      Miami Dolphins|             MIA|           -5.0|             39|Ralph Wilson Stadium|          false|                 74|              15|              74|          null|       1|\n",
            "|     9/2/1979|           1979|            1|           false|       Chicago Bears|         6|         3|   Green Bay Packers|             CHI|           -3.0|             31|       Soldier Field|          false|                 78|              11|              68|          null|       2|\n",
            "|     9/2/1979|           1979|            1|           false|      Denver Broncos|        10|         0|  Cincinnati Bengals|             DEN|           -3.0|           31.5|   Mile High Stadium|          false|                 69|               6|              38|          null|       2|\n",
            "|     9/2/1979|           1979|            1|           false|  Kansas City Chiefs|        14|         0|     Baltimore Colts|              KC|           -1.0|             37|   Arrowhead Stadium|          false|                 76|               8|              71|          null|       2|\n",
            "|     9/2/1979|           1979|            1|           false|    Los Angeles Rams|        17|        24|     Oakland Raiders|             LAR|           -4.0|           36.5|     Anaheim Stadium|          false|                 70|              10|              77|          null|       1|\n",
            "|     9/2/1979|           1979|            1|           false|   Minnesota Vikings|        28|        22| San Francisco 49ers|             MIN|           -7.0|             32|Metropolitan Stadium|          false|                 70|              11|              67|          null|       2|\n",
            "|     9/2/1979|           1979|            1|           false|  New Orleans Saints|        34|        40|     Atlanta Falcons|              NO|           -5.0|             32| Louisiana Superdome|          false|                 72|               0|            null|          DOME|       1|\n",
            "|     9/2/1979|           1979|            1|           false|       New York Jets|        22|        25|    Cleveland Browns|             NYJ|           -2.0|             41|      Giants Stadium|          false|                 73|              10|              76|          null|       1|\n",
            "|     9/2/1979|           1979|            1|           false| Philadelphia Eagles|        23|        17|     New York Giants|             PHI|           -7.0|           31.5|    Veterans Stadium|          false|                 76|               9|              84|          null|       2|\n",
            "|     9/2/1979|           1979|            1|           false|    Seattle Seahawks|        16|        33|  San Diego Chargers|             SEA|           -2.0|           42.5|    Seattle Kingdome|          false|                 72|               0|            null|          DOME|       1|\n",
            "|     9/2/1979|           1979|            1|           false| St. Louis Cardinals|        21|        22|      Dallas Cowboys|             DAL|           -4.0|             37|Busch Memorial St...|          false|                 76|               7|              73|          null|       1|\n",
            "|     9/2/1979|           1979|            1|           false| Washington Redskins|        27|        29|      Houston Oilers|             TEN|           -4.0|             33|RFK Memorial Stadium|          false|                 80|              11|              85|          null|       1|\n",
            "|     9/3/1979|           1979|            1|           false|New England Patriots|        13|        16| Pittsburgh Steelers|             PIT|           -2.0|             37|     Foxboro Stadium|          false|                 78|              13|              80|          null|       1|\n",
            "|     9/6/1979|           1979|            2|           false|      Denver Broncos|         9|        13|    Los Angeles Rams|             DEN|           -2.0|           31.5|   Mile High Stadium|          false|                 67|               8|              50|          null|       1|\n",
            "|     9/9/1979|           1979|            2|           false|     Baltimore Colts|        26|        29|Tampa Bay Buccaneers|            PICK|            0.0|             33|Memorial Stadium ...|          false|                 64|               8|              65|          null|       1|\n",
            "|     9/9/1979|           1979|            2|           false|       Buffalo Bills|        51|        24|  Cincinnati Bengals|             CIN|           -3.0|             34|Ralph Wilson Stadium|          false|                 54|               7|              63|          null|       2|\n",
            "|     9/9/1979|           1979|            2|           false|       Chicago Bears|        26|         7|   Minnesota Vikings|             CHI|           -6.0|           31.5|       Soldier Field|          false|                 60|              11|              64|          null|       2|\n",
            "|     9/9/1979|           1979|            2|           false|       Detroit Lions|        24|        27| Washington Redskins|            PICK|            0.0|           35.5|  Pontiac Silverdome|          false|                 72|               0|            null|          DOME|       1|\n",
            "|     9/9/1979|           1979|            2|           false|   Green Bay Packers|        28|        19|  New Orleans Saints|              GB|           -3.0|             35|       Lambeau Field|          false|                 60|              13|              71|          null|       2|\n",
            "+-------------+---------------+-------------+----------------+--------------------+----------+----------+--------------------+----------------+---------------+---------------+--------------------+---------------+-------------------+----------------+----------------+--------------+--------+\n",
            "only showing top 20 rows\n",
            "\n"
          ]
        }
      ]
    },
    {
      "cell_type": "code",
      "source": [
        "cols = ('schedule_date', 'schedule_season', 'schedule_week', 'schedule_playoff', 'team_home', 'team_away', 'team_favorite_id', 'stadium_neutral','weather_humidity', 'over_under_line')\n",
        "NFL_short = NFL_guru_wins.drop(*cols)\n",
        "NFL_short.show()"
      ],
      "metadata": {
        "colab": {
          "base_uri": "https://localhost:8080/"
        },
        "id": "RhosZSc1PLzo",
        "outputId": "641cc0b6-65db-4464-8a9b-2463fdd61be3"
      },
      "execution_count": 22,
      "outputs": [
        {
          "output_type": "stream",
          "name": "stdout",
          "text": [
            "+----------+----------+---------------+--------------------+-------------------+----------------+--------------+--------+\n",
            "|score_home|score_away|spread_favorite|             stadium|weather_temperature|weather_wind_mph|weather_detail|home_win|\n",
            "+----------+----------+---------------+--------------------+-------------------+----------------+--------------+--------+\n",
            "|        31|        16|           -3.0|  Houlihan's Stadium|                 79|               9|          null|       2|\n",
            "|         7|         9|           -5.0|Ralph Wilson Stadium|                 74|              15|          null|       1|\n",
            "|         6|         3|           -3.0|       Soldier Field|                 78|              11|          null|       2|\n",
            "|        10|         0|           -3.0|   Mile High Stadium|                 69|               6|          null|       2|\n",
            "|        14|         0|           -1.0|   Arrowhead Stadium|                 76|               8|          null|       2|\n",
            "|        17|        24|           -4.0|     Anaheim Stadium|                 70|              10|          null|       1|\n",
            "|        28|        22|           -7.0|Metropolitan Stadium|                 70|              11|          null|       2|\n",
            "|        34|        40|           -5.0| Louisiana Superdome|                 72|               0|          DOME|       1|\n",
            "|        22|        25|           -2.0|      Giants Stadium|                 73|              10|          null|       1|\n",
            "|        23|        17|           -7.0|    Veterans Stadium|                 76|               9|          null|       2|\n",
            "|        16|        33|           -2.0|    Seattle Kingdome|                 72|               0|          DOME|       1|\n",
            "|        21|        22|           -4.0|Busch Memorial St...|                 76|               7|          null|       1|\n",
            "|        27|        29|           -4.0|RFK Memorial Stadium|                 80|              11|          null|       1|\n",
            "|        13|        16|           -2.0|     Foxboro Stadium|                 78|              13|          null|       1|\n",
            "|         9|        13|           -2.0|   Mile High Stadium|                 67|               8|          null|       1|\n",
            "|        26|        29|            0.0|Memorial Stadium ...|                 64|               8|          null|       1|\n",
            "|        51|        24|           -3.0|Ralph Wilson Stadium|                 54|               7|          null|       2|\n",
            "|        26|         7|           -6.0|       Soldier Field|                 60|              11|          null|       2|\n",
            "|        24|        27|            0.0|  Pontiac Silverdome|                 72|               0|          DOME|       1|\n",
            "|        28|        19|           -3.0|       Lambeau Field|                 60|              13|          null|       2|\n",
            "+----------+----------+---------------+--------------------+-------------------+----------------+--------------+--------+\n",
            "only showing top 20 rows\n",
            "\n"
          ]
        }
      ]
    },
    {
      "cell_type": "code",
      "source": [
        "NFL_fix_weather = NFL_short.withColumn('weather_detail', F.when(NFL_short.weather_detail=='DOME','1').otherwise('0'))\n",
        "NFL_fix_weather.show()"
      ],
      "metadata": {
        "colab": {
          "base_uri": "https://localhost:8080/"
        },
        "id": "qc2Dms2APL7L",
        "outputId": "39838259-d877-4e2a-a984-60a40820fa8e"
      },
      "execution_count": 27,
      "outputs": [
        {
          "output_type": "stream",
          "name": "stdout",
          "text": [
            "+----------+----------+---------------+--------------------+-------------------+----------------+--------------+--------+\n",
            "|score_home|score_away|spread_favorite|             stadium|weather_temperature|weather_wind_mph|weather_detail|home_win|\n",
            "+----------+----------+---------------+--------------------+-------------------+----------------+--------------+--------+\n",
            "|        31|        16|           -3.0|  Houlihan's Stadium|                 79|               9|             0|       2|\n",
            "|         7|         9|           -5.0|Ralph Wilson Stadium|                 74|              15|             0|       1|\n",
            "|         6|         3|           -3.0|       Soldier Field|                 78|              11|             0|       2|\n",
            "|        10|         0|           -3.0|   Mile High Stadium|                 69|               6|             0|       2|\n",
            "|        14|         0|           -1.0|   Arrowhead Stadium|                 76|               8|             0|       2|\n",
            "|        17|        24|           -4.0|     Anaheim Stadium|                 70|              10|             0|       1|\n",
            "|        28|        22|           -7.0|Metropolitan Stadium|                 70|              11|             0|       2|\n",
            "|        34|        40|           -5.0| Louisiana Superdome|                 72|               0|             1|       1|\n",
            "|        22|        25|           -2.0|      Giants Stadium|                 73|              10|             0|       1|\n",
            "|        23|        17|           -7.0|    Veterans Stadium|                 76|               9|             0|       2|\n",
            "|        16|        33|           -2.0|    Seattle Kingdome|                 72|               0|             1|       1|\n",
            "|        21|        22|           -4.0|Busch Memorial St...|                 76|               7|             0|       1|\n",
            "|        27|        29|           -4.0|RFK Memorial Stadium|                 80|              11|             0|       1|\n",
            "|        13|        16|           -2.0|     Foxboro Stadium|                 78|              13|             0|       1|\n",
            "|         9|        13|           -2.0|   Mile High Stadium|                 67|               8|             0|       1|\n",
            "|        26|        29|            0.0|Memorial Stadium ...|                 64|               8|             0|       1|\n",
            "|        51|        24|           -3.0|Ralph Wilson Stadium|                 54|               7|             0|       2|\n",
            "|        26|         7|           -6.0|       Soldier Field|                 60|              11|             0|       2|\n",
            "|        24|        27|            0.0|  Pontiac Silverdome|                 72|               0|             1|       1|\n",
            "|        28|        19|           -3.0|       Lambeau Field|                 60|              13|             0|       2|\n",
            "+----------+----------+---------------+--------------------+-------------------+----------------+--------------+--------+\n",
            "only showing top 20 rows\n",
            "\n"
          ]
        }
      ]
    },
    {
      "cell_type": "code",
      "source": [
        "NFL_clean = NFL_fix_weather\n",
        "NFL_clean.show()"
      ],
      "metadata": {
        "colab": {
          "base_uri": "https://localhost:8080/"
        },
        "id": "807tZIYUPL_n",
        "outputId": "3ec5bd0d-f272-4a29-bf6e-3faba8284513"
      },
      "execution_count": 28,
      "outputs": [
        {
          "output_type": "stream",
          "name": "stdout",
          "text": [
            "+----------+----------+---------------+--------------------+-------------------+----------------+--------------+--------+\n",
            "|score_home|score_away|spread_favorite|             stadium|weather_temperature|weather_wind_mph|weather_detail|home_win|\n",
            "+----------+----------+---------------+--------------------+-------------------+----------------+--------------+--------+\n",
            "|        31|        16|           -3.0|  Houlihan's Stadium|                 79|               9|             0|       2|\n",
            "|         7|         9|           -5.0|Ralph Wilson Stadium|                 74|              15|             0|       1|\n",
            "|         6|         3|           -3.0|       Soldier Field|                 78|              11|             0|       2|\n",
            "|        10|         0|           -3.0|   Mile High Stadium|                 69|               6|             0|       2|\n",
            "|        14|         0|           -1.0|   Arrowhead Stadium|                 76|               8|             0|       2|\n",
            "|        17|        24|           -4.0|     Anaheim Stadium|                 70|              10|             0|       1|\n",
            "|        28|        22|           -7.0|Metropolitan Stadium|                 70|              11|             0|       2|\n",
            "|        34|        40|           -5.0| Louisiana Superdome|                 72|               0|             1|       1|\n",
            "|        22|        25|           -2.0|      Giants Stadium|                 73|              10|             0|       1|\n",
            "|        23|        17|           -7.0|    Veterans Stadium|                 76|               9|             0|       2|\n",
            "|        16|        33|           -2.0|    Seattle Kingdome|                 72|               0|             1|       1|\n",
            "|        21|        22|           -4.0|Busch Memorial St...|                 76|               7|             0|       1|\n",
            "|        27|        29|           -4.0|RFK Memorial Stadium|                 80|              11|             0|       1|\n",
            "|        13|        16|           -2.0|     Foxboro Stadium|                 78|              13|             0|       1|\n",
            "|         9|        13|           -2.0|   Mile High Stadium|                 67|               8|             0|       1|\n",
            "|        26|        29|            0.0|Memorial Stadium ...|                 64|               8|             0|       1|\n",
            "|        51|        24|           -3.0|Ralph Wilson Stadium|                 54|               7|             0|       2|\n",
            "|        26|         7|           -6.0|       Soldier Field|                 60|              11|             0|       2|\n",
            "|        24|        27|            0.0|  Pontiac Silverdome|                 72|               0|             1|       1|\n",
            "|        28|        19|           -3.0|       Lambeau Field|                 60|              13|             0|       2|\n",
            "+----------+----------+---------------+--------------------+-------------------+----------------+--------------+--------+\n",
            "only showing top 20 rows\n",
            "\n"
          ]
        }
      ]
    },
    {
      "cell_type": "code",
      "source": [],
      "metadata": {
        "id": "PTe5L6VrPMEk"
      },
      "execution_count": null,
      "outputs": []
    },
    {
      "cell_type": "code",
      "source": [],
      "metadata": {
        "id": "pI0xc3rAPMHc"
      },
      "execution_count": null,
      "outputs": []
    },
    {
      "cell_type": "code",
      "source": [],
      "metadata": {
        "id": "UOeoXlxOPMLF"
      },
      "execution_count": null,
      "outputs": []
    },
    {
      "cell_type": "code",
      "source": [],
      "metadata": {
        "id": "nJloMSk9PMN9"
      },
      "execution_count": null,
      "outputs": []
    },
    {
      "cell_type": "code",
      "source": [
        "import numpy as np\n",
        "import pandas as pd\n",
        "from pathlib import Path\n",
        "from collections import Counter"
      ],
      "metadata": {
        "id": "QqwI7_tXDjgJ"
      },
      "execution_count": null,
      "outputs": []
    },
    {
      "cell_type": "code",
      "source": [
        "from sklearn.metrics import balanced_accuracy_score\n",
        "from sklearn.metrics import confusion_matrix\n",
        "from imblearn.metrics import classification_report_imbalanced"
      ],
      "metadata": {
        "id": "LeuSfaHVFXib"
      },
      "execution_count": null,
      "outputs": []
    },
    {
      "cell_type": "code",
      "source": [
        "X = pd.get_dummies\n",
        "y= df[\"\"]"
      ],
      "metadata": {
        "id": "kUzKl0lmFqiP"
      },
      "execution_count": null,
      "outputs": []
    }
  ]
}