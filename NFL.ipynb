{
  "nbformat": 4,
  "nbformat_minor": 0,
  "metadata": {
    "colab": {
      "provenance": [],
      "collapsed_sections": [],
      "name": "NFL.ipynb",
      "include_colab_link": true
    },
    "kernelspec": {
      "name": "python3",
      "display_name": "Python 3"
    },
    "language_info": {
      "name": "python"
    }
  },
  "cells": [
    {
      "cell_type": "markdown",
      "metadata": {
        "id": "view-in-github",
        "colab_type": "text"
      },
      "source": [
        "<a href=\"https://colab.research.google.com/github/jnels4/nfl_predictions/blob/Brit/NFL.ipynb\" target=\"_parent\"><img src=\"https://colab.research.google.com/assets/colab-badge.svg\" alt=\"Open In Colab\"/></a>"
      ]
    },
    {
      "cell_type": "code",
      "execution_count": 2,
      "metadata": {
        "colab": {
          "base_uri": "https://localhost:8080/"
        },
        "id": "xfWpPVHmZr1Z",
        "outputId": "f291ce08-54fb-484c-c185-b22925d0ee8b"
      },
      "outputs": [
        {
          "output_type": "stream",
          "name": "stdout",
          "text": [
            "\r0% [Working]\r            \rGet:1 http://security.ubuntu.com/ubuntu bionic-security InRelease [88.7 kB]\n",
            "Get:2 https://cloud.r-project.org/bin/linux/ubuntu bionic-cran40/ InRelease [3,626 B]\n",
            "Hit:3 http://archive.ubuntu.com/ubuntu bionic InRelease\n",
            "Get:4 http://ppa.launchpad.net/c2d4u.team/c2d4u4.0+/ubuntu bionic InRelease [15.9 kB]\n",
            "Get:5 http://archive.ubuntu.com/ubuntu bionic-updates InRelease [88.7 kB]\n",
            "Hit:6 http://ppa.launchpad.net/cran/libgit2/ubuntu bionic InRelease\n",
            "Ign:7 https://developer.download.nvidia.com/compute/machine-learning/repos/ubuntu1804/x86_64  InRelease\n",
            "Get:8 http://security.ubuntu.com/ubuntu bionic-security/restricted amd64 Packages [1,121 kB]\n",
            "Get:9 http://archive.ubuntu.com/ubuntu bionic-backports InRelease [74.6 kB]\n",
            "Hit:10 https://developer.download.nvidia.com/compute/cuda/repos/ubuntu1804/x86_64  InRelease\n",
            "Hit:11 https://developer.download.nvidia.com/compute/machine-learning/repos/ubuntu1804/x86_64  Release\n",
            "Hit:12 http://ppa.launchpad.net/deadsnakes/ppa/ubuntu bionic InRelease\n",
            "Get:13 http://security.ubuntu.com/ubuntu bionic-security/universe amd64 Packages [1,540 kB]\n",
            "Get:14 http://security.ubuntu.com/ubuntu bionic-security/main amd64 Packages [2,959 kB]\n",
            "Hit:15 http://ppa.launchpad.net/graphics-drivers/ppa/ubuntu bionic InRelease\n",
            "Get:16 http://ppa.launchpad.net/c2d4u.team/c2d4u4.0+/ubuntu bionic/main Sources [2,099 kB]\n",
            "Get:17 http://archive.ubuntu.com/ubuntu bionic-updates/restricted amd64 Packages [1,162 kB]\n",
            "Get:18 http://archive.ubuntu.com/ubuntu bionic-updates/main amd64 Packages [3,390 kB]\n",
            "Get:19 http://ppa.launchpad.net/c2d4u.team/c2d4u4.0+/ubuntu bionic/main amd64 Packages [1,076 kB]\n",
            "Fetched 13.6 MB in 4s (3,706 kB/s)\n",
            "Reading package lists... Done\n"
          ]
        }
      ],
      "source": [
        "import os\n",
        "spark_version = 'spark-3.2.2'\n",
        "os.environ['SPARK_VERSION']=spark_version\n",
        "# Install Spark and Java\n",
        "!apt-get update\n",
        "!apt-get install openjdk-11-jdk-headless -qq > /dev/null\n",
        "!wget -q http://www.apache.org/dist/spark/$SPARK_VERSION/$SPARK_VERSION-bin-hadoop3.2.tgz\n",
        "!tar xf $SPARK_VERSION-bin-hadoop3.2.tgz\n",
        "!pip install -q findspark\n",
        "# Set Environment Variables\n",
        "import os\n",
        "os.environ[\"JAVA_HOME\"] = \"/usr/lib/jvm/java-11-openjdk-amd64\"\n",
        "os.environ[\"SPARK_HOME\"] = f\"/content/{spark_version}-bin-hadoop3.2\"\n",
        "# Start a SparkSession\n",
        "import findspark\n",
        "findspark.init()"
      ]
    },
    {
      "cell_type": "code",
      "source": [
        "# Download the Postgres driver that will allow Spark to interact with Postgres.\n",
        "!wget https://jdbc.postgresql.org/download/postgresql-42.2.16.jar"
      ],
      "metadata": {
        "colab": {
          "base_uri": "https://localhost:8080/"
        },
        "id": "TMreBmxxaLu8",
        "outputId": "52dae8b7-673f-4829-8a65-29f766ba44b2"
      },
      "execution_count": 3,
      "outputs": [
        {
          "output_type": "stream",
          "name": "stdout",
          "text": [
            "--2022-09-05 03:07:10--  https://jdbc.postgresql.org/download/postgresql-42.2.16.jar\n",
            "Resolving jdbc.postgresql.org (jdbc.postgresql.org)... 72.32.157.228, 2001:4800:3e1:1::228\n",
            "Connecting to jdbc.postgresql.org (jdbc.postgresql.org)|72.32.157.228|:443... connected.\n",
            "HTTP request sent, awaiting response... 200 OK\n",
            "Length: 1002883 (979K) [application/java-archive]\n",
            "Saving to: ‘postgresql-42.2.16.jar’\n",
            "\n",
            "\rpostgresql-42.2.16.   0%[                    ]       0  --.-KB/s               \rpostgresql-42.2.16. 100%[===================>] 979.38K  --.-KB/s    in 0.09s   \n",
            "\n",
            "2022-09-05 03:07:10 (10.3 MB/s) - ‘postgresql-42.2.16.jar’ saved [1002883/1002883]\n",
            "\n"
          ]
        }
      ]
    },
    {
      "cell_type": "code",
      "source": [
        "from pyspark.sql import SparkSession\n",
        "spark = SparkSession.builder.appName(\"NFL-Prediction\").config(\"spark.driver.extraClassPath\",\"/content/postgresql-42.2.16.jar\").getOrCreate()"
      ],
      "metadata": {
        "id": "3SwoiEFFaOaq"
      },
      "execution_count": 4,
      "outputs": []
    },
    {
      "cell_type": "code",
      "source": [
        "from pyspark import SparkFiles\n",
        "url = \"https://nflpredictionsdataviz.s3.amazonaws.com/spreadspoke_scores.csv\"\n",
        "spark.sparkContext.addFile(url)\n",
        "NFL_Guru_df = spark.read.option(\"encoding\", \"UTF-8\").csv(SparkFiles.get(\"spreadspoke_scores.csv\"), sep=\",\", header=True, inferSchema=True)\n",
        "NFL_Guru_df.show()"
      ],
      "metadata": {
        "colab": {
          "base_uri": "https://localhost:8080/"
        },
        "id": "03nTUBGPag4c",
        "outputId": "f46c96d1-309d-412f-d3ed-c68989e6fb5a"
      },
      "execution_count": 5,
      "outputs": [
        {
          "output_type": "stream",
          "name": "stdout",
          "text": [
            "+-------------+---------------+-------------+----------------+-------------------+----------+----------+--------------------+----------------+---------------+---------------+--------------------+---------------+-------------------+----------------+----------------+--------------+\n",
            "|schedule_date|schedule_season|schedule_week|schedule_playoff|          team_home|score_home|score_away|           team_away|team_favorite_id|spread_favorite|over_under_line|             stadium|stadium_neutral|weather_temperature|weather_wind_mph|weather_humidity|weather_detail|\n",
            "+-------------+---------------+-------------+----------------+-------------------+----------+----------+--------------------+----------------+---------------+---------------+--------------------+---------------+-------------------+----------------+----------------+--------------+\n",
            "|     9/2/1966|           1966|            1|           false|     Miami Dolphins|        14|        23|     Oakland Raiders|            null|           null|           null|         Orange Bowl|          false|                 83|               6|              71|          null|\n",
            "|     9/3/1966|           1966|            1|           false|     Houston Oilers|        45|         7|      Denver Broncos|            null|           null|           null|        Rice Stadium|          false|                 81|               7|              70|          null|\n",
            "|     9/4/1966|           1966|            1|           false| San Diego Chargers|        27|         7|       Buffalo Bills|            null|           null|           null|      Balboa Stadium|          false|                 70|               7|              82|          null|\n",
            "|     9/9/1966|           1966|            2|           false|     Miami Dolphins|        14|        19|       New York Jets|            null|           null|           null|         Orange Bowl|          false|                 82|              11|              78|          null|\n",
            "|    9/10/1966|           1966|            1|           false|  Green Bay Packers|        24|         3|     Baltimore Colts|            null|           null|           null|       Lambeau Field|          false|                 64|               8|              62|          null|\n",
            "|    9/10/1966|           1966|            2|           false|     Houston Oilers|        31|         0|     Oakland Raiders|            null|           null|           null|        Rice Stadium|          false|                 77|               6|              82|          null|\n",
            "|    9/10/1966|           1966|            2|           false| San Diego Chargers|        24|         0|New England Patriots|            null|           null|           null|      Balboa Stadium|          false|                 69|               9|              81|          null|\n",
            "|    9/11/1966|           1966|            1|           false|    Atlanta Falcons|        14|        19|    Los Angeles Rams|            null|           null|           null|Atlanta-Fulton Co...|          false|                 71|               7|              57|          null|\n",
            "|    9/11/1966|           1966|            2|           false|      Buffalo Bills|        20|        42|  Kansas City Chiefs|            null|           null|           null|War Memorial Stadium|          false|                 63|              11|              73|          null|\n",
            "|    9/11/1966|           1966|            1|           false|      Detroit Lions|        14|         3|       Chicago Bears|            null|           null|           null|       Tiger Stadium|          false|                 67|               7|              73|          null|\n",
            "|    9/11/1966|           1966|            1|           false|Pittsburgh Steelers|        34|        34|     New York Giants|            null|           null|           null|        Pitt Stadium|          false|                 64|               5|              70|          null|\n",
            "|    9/11/1966|           1966|            1|           false|San Francisco 49ers|        20|        20|   Minnesota Vikings|            null|           null|           null|       Kezar Stadium|          false|                 60|              25|              75|          null|\n",
            "|    9/11/1966|           1966|            1|           false|St. Louis Cardinals|        16|        13| Philadelphia Eagles|            null|           null|           null|Busch Memorial St...|          false|                 72|               5|              70|          null|\n",
            "|    9/11/1966|           1966|            1|           false|Washington Redskins|        14|        38|    Cleveland Browns|            null|           null|           null|RFK Memorial Stadium|          false|                 65|               8|              52|          null|\n",
            "|    9/16/1966|           1966|            2|           false|   Los Angeles Rams|        31|        17|       Chicago Bears|            null|           null|           null|Los Angeles Memor...|          false|                 72|              10|              52|          null|\n",
            "|    9/18/1966|           1966|            3|           false|      Buffalo Bills|        58|        24|      Miami Dolphins|            null|           null|           null|War Memorial Stadium|          false|                 61|               3|              67|          null|\n",
            "|    9/18/1966|           1966|            2|           false|   Cleveland Browns|        20|        21|   Green Bay Packers|            null|           null|           null|Cleveland Municip...|          false|                 62|               6|              57|          null|\n",
            "|    9/18/1966|           1966|            2|           false|     Dallas Cowboys|        52|         7|     New York Giants|            null|           null|           null|         Cotton Bowl|          false|                 72|               9|              82|          null|\n",
            "|    9/18/1966|           1966|            3|           false|     Denver Broncos|        10|        24|New England Patriots|            null|           null|           null|   Mile High Stadium|          false|                 59|               7|              53|          null|\n",
            "|    9/18/1966|           1966|            2|           false|  Minnesota Vikings|        23|        38|     Baltimore Colts|            null|           null|           null|Metropolitan Stadium|          false|                 60|               4|              64|          null|\n",
            "+-------------+---------------+-------------+----------------+-------------------+----------+----------+--------------------+----------------+---------------+---------------+--------------------+---------------+-------------------+----------------+----------------+--------------+\n",
            "only showing top 20 rows\n",
            "\n"
          ]
        }
      ]
    },
    {
      "cell_type": "code",
      "source": [
        "NFL_Guru_df.printSchema()"
      ],
      "metadata": {
        "colab": {
          "base_uri": "https://localhost:8080/"
        },
        "id": "6zWjOrU2bNl7",
        "outputId": "29ea75bd-dd01-4451-9434-eace5d30b5d0"
      },
      "execution_count": 6,
      "outputs": [
        {
          "output_type": "stream",
          "name": "stdout",
          "text": [
            "root\n",
            " |-- schedule_date: string (nullable = true)\n",
            " |-- schedule_season: integer (nullable = true)\n",
            " |-- schedule_week: string (nullable = true)\n",
            " |-- schedule_playoff: boolean (nullable = true)\n",
            " |-- team_home: string (nullable = true)\n",
            " |-- score_home: integer (nullable = true)\n",
            " |-- score_away: integer (nullable = true)\n",
            " |-- team_away: string (nullable = true)\n",
            " |-- team_favorite_id: string (nullable = true)\n",
            " |-- spread_favorite: double (nullable = true)\n",
            " |-- over_under_line: string (nullable = true)\n",
            " |-- stadium: string (nullable = true)\n",
            " |-- stadium_neutral: boolean (nullable = true)\n",
            " |-- weather_temperature: integer (nullable = true)\n",
            " |-- weather_wind_mph: integer (nullable = true)\n",
            " |-- weather_humidity: integer (nullable = true)\n",
            " |-- weather_detail: string (nullable = true)\n",
            "\n"
          ]
        }
      ]
    },
    {
      "cell_type": "code",
      "source": [
        "NFL_guru_current = NFL_Guru_df.where(NFL_Guru_df.schedule_season>1978)\n",
        "NFL_guru_current.show()"
      ],
      "metadata": {
        "colab": {
          "base_uri": "https://localhost:8080/"
        },
        "id": "WPZYsnLWfChk",
        "outputId": "02cc7c78-08c5-4f25-8158-112022a51515"
      },
      "execution_count": 7,
      "outputs": [
        {
          "output_type": "stream",
          "name": "stdout",
          "text": [
            "+-------------+---------------+-------------+----------------+--------------------+----------+----------+--------------------+----------------+---------------+---------------+--------------------+---------------+-------------------+----------------+----------------+--------------+\n",
            "|schedule_date|schedule_season|schedule_week|schedule_playoff|           team_home|score_home|score_away|           team_away|team_favorite_id|spread_favorite|over_under_line|             stadium|stadium_neutral|weather_temperature|weather_wind_mph|weather_humidity|weather_detail|\n",
            "+-------------+---------------+-------------+----------------+--------------------+----------+----------+--------------------+----------------+---------------+---------------+--------------------+---------------+-------------------+----------------+----------------+--------------+\n",
            "|     9/1/1979|           1979|            1|           false|Tampa Bay Buccaneers|        31|        16|       Detroit Lions|              TB|           -3.0|             30|  Houlihan's Stadium|          false|                 79|               9|              87|          null|\n",
            "|     9/2/1979|           1979|            1|           false|       Buffalo Bills|         7|         9|      Miami Dolphins|             MIA|           -5.0|             39|Ralph Wilson Stadium|          false|                 74|              15|              74|          null|\n",
            "|     9/2/1979|           1979|            1|           false|       Chicago Bears|         6|         3|   Green Bay Packers|             CHI|           -3.0|             31|       Soldier Field|          false|                 78|              11|              68|          null|\n",
            "|     9/2/1979|           1979|            1|           false|      Denver Broncos|        10|         0|  Cincinnati Bengals|             DEN|           -3.0|           31.5|   Mile High Stadium|          false|                 69|               6|              38|          null|\n",
            "|     9/2/1979|           1979|            1|           false|  Kansas City Chiefs|        14|         0|     Baltimore Colts|              KC|           -1.0|             37|   Arrowhead Stadium|          false|                 76|               8|              71|          null|\n",
            "|     9/2/1979|           1979|            1|           false|    Los Angeles Rams|        17|        24|     Oakland Raiders|             LAR|           -4.0|           36.5|     Anaheim Stadium|          false|                 70|              10|              77|          null|\n",
            "|     9/2/1979|           1979|            1|           false|   Minnesota Vikings|        28|        22| San Francisco 49ers|             MIN|           -7.0|             32|Metropolitan Stadium|          false|                 70|              11|              67|          null|\n",
            "|     9/2/1979|           1979|            1|           false|  New Orleans Saints|        34|        40|     Atlanta Falcons|              NO|           -5.0|             32| Louisiana Superdome|          false|                 72|               0|            null|          DOME|\n",
            "|     9/2/1979|           1979|            1|           false|       New York Jets|        22|        25|    Cleveland Browns|             NYJ|           -2.0|             41|      Giants Stadium|          false|                 73|              10|              76|          null|\n",
            "|     9/2/1979|           1979|            1|           false| Philadelphia Eagles|        23|        17|     New York Giants|             PHI|           -7.0|           31.5|    Veterans Stadium|          false|                 76|               9|              84|          null|\n",
            "|     9/2/1979|           1979|            1|           false|    Seattle Seahawks|        16|        33|  San Diego Chargers|             SEA|           -2.0|           42.5|    Seattle Kingdome|          false|                 72|               0|            null|          DOME|\n",
            "|     9/2/1979|           1979|            1|           false| St. Louis Cardinals|        21|        22|      Dallas Cowboys|             DAL|           -4.0|             37|Busch Memorial St...|          false|                 76|               7|              73|          null|\n",
            "|     9/2/1979|           1979|            1|           false| Washington Redskins|        27|        29|      Houston Oilers|             TEN|           -4.0|             33|RFK Memorial Stadium|          false|                 80|              11|              85|          null|\n",
            "|     9/3/1979|           1979|            1|           false|New England Patriots|        13|        16| Pittsburgh Steelers|             PIT|           -2.0|             37|     Foxboro Stadium|          false|                 78|              13|              80|          null|\n",
            "|     9/6/1979|           1979|            2|           false|      Denver Broncos|         9|        13|    Los Angeles Rams|             DEN|           -2.0|           31.5|   Mile High Stadium|          false|                 67|               8|              50|          null|\n",
            "|     9/9/1979|           1979|            2|           false|     Baltimore Colts|        26|        29|Tampa Bay Buccaneers|            PICK|            0.0|             33|Memorial Stadium ...|          false|                 64|               8|              65|          null|\n",
            "|     9/9/1979|           1979|            2|           false|       Buffalo Bills|        51|        24|  Cincinnati Bengals|             CIN|           -3.0|             34|Ralph Wilson Stadium|          false|                 54|               7|              63|          null|\n",
            "|     9/9/1979|           1979|            2|           false|       Chicago Bears|        26|         7|   Minnesota Vikings|             CHI|           -6.0|           31.5|       Soldier Field|          false|                 60|              11|              64|          null|\n",
            "|     9/9/1979|           1979|            2|           false|       Detroit Lions|        24|        27| Washington Redskins|            PICK|            0.0|           35.5|  Pontiac Silverdome|          false|                 72|               0|            null|          DOME|\n",
            "|     9/9/1979|           1979|            2|           false|   Green Bay Packers|        28|        19|  New Orleans Saints|              GB|           -3.0|             35|       Lambeau Field|          false|                 60|              13|              71|          null|\n",
            "+-------------+---------------+-------------+----------------+--------------------+----------+----------+--------------------+----------------+---------------+---------------+--------------------+---------------+-------------------+----------------+----------------+--------------+\n",
            "only showing top 20 rows\n",
            "\n"
          ]
        }
      ]
    },
    {
      "cell_type": "code",
      "source": [
        "from pyspark.sql import functions as F\n",
        "\n",
        "NFL_guru_wins = NFL_guru_current.withColumn('home_win',\n",
        "                                            F.when((F.col('score_home')>F.col('score_away')), 2)\\\n",
        "                                            .when((F.col('score_home')<F.col('score_away')), 1).otherwise(0)                                   \n",
        "                                            )\n",
        "NFL_guru_wins.show()"
      ],
      "metadata": {
        "colab": {
          "base_uri": "https://localhost:8080/"
        },
        "id": "uBsfzJBtPLl1",
        "outputId": "6a02f9c7-d5d8-47cf-e19d-7c2154778047"
      },
      "execution_count": 8,
      "outputs": [
        {
          "output_type": "stream",
          "name": "stdout",
          "text": [
            "+-------------+---------------+-------------+----------------+--------------------+----------+----------+--------------------+----------------+---------------+---------------+--------------------+---------------+-------------------+----------------+----------------+--------------+--------+\n",
            "|schedule_date|schedule_season|schedule_week|schedule_playoff|           team_home|score_home|score_away|           team_away|team_favorite_id|spread_favorite|over_under_line|             stadium|stadium_neutral|weather_temperature|weather_wind_mph|weather_humidity|weather_detail|home_win|\n",
            "+-------------+---------------+-------------+----------------+--------------------+----------+----------+--------------------+----------------+---------------+---------------+--------------------+---------------+-------------------+----------------+----------------+--------------+--------+\n",
            "|     9/1/1979|           1979|            1|           false|Tampa Bay Buccaneers|        31|        16|       Detroit Lions|              TB|           -3.0|             30|  Houlihan's Stadium|          false|                 79|               9|              87|          null|       2|\n",
            "|     9/2/1979|           1979|            1|           false|       Buffalo Bills|         7|         9|      Miami Dolphins|             MIA|           -5.0|             39|Ralph Wilson Stadium|          false|                 74|              15|              74|          null|       1|\n",
            "|     9/2/1979|           1979|            1|           false|       Chicago Bears|         6|         3|   Green Bay Packers|             CHI|           -3.0|             31|       Soldier Field|          false|                 78|              11|              68|          null|       2|\n",
            "|     9/2/1979|           1979|            1|           false|      Denver Broncos|        10|         0|  Cincinnati Bengals|             DEN|           -3.0|           31.5|   Mile High Stadium|          false|                 69|               6|              38|          null|       2|\n",
            "|     9/2/1979|           1979|            1|           false|  Kansas City Chiefs|        14|         0|     Baltimore Colts|              KC|           -1.0|             37|   Arrowhead Stadium|          false|                 76|               8|              71|          null|       2|\n",
            "|     9/2/1979|           1979|            1|           false|    Los Angeles Rams|        17|        24|     Oakland Raiders|             LAR|           -4.0|           36.5|     Anaheim Stadium|          false|                 70|              10|              77|          null|       1|\n",
            "|     9/2/1979|           1979|            1|           false|   Minnesota Vikings|        28|        22| San Francisco 49ers|             MIN|           -7.0|             32|Metropolitan Stadium|          false|                 70|              11|              67|          null|       2|\n",
            "|     9/2/1979|           1979|            1|           false|  New Orleans Saints|        34|        40|     Atlanta Falcons|              NO|           -5.0|             32| Louisiana Superdome|          false|                 72|               0|            null|          DOME|       1|\n",
            "|     9/2/1979|           1979|            1|           false|       New York Jets|        22|        25|    Cleveland Browns|             NYJ|           -2.0|             41|      Giants Stadium|          false|                 73|              10|              76|          null|       1|\n",
            "|     9/2/1979|           1979|            1|           false| Philadelphia Eagles|        23|        17|     New York Giants|             PHI|           -7.0|           31.5|    Veterans Stadium|          false|                 76|               9|              84|          null|       2|\n",
            "|     9/2/1979|           1979|            1|           false|    Seattle Seahawks|        16|        33|  San Diego Chargers|             SEA|           -2.0|           42.5|    Seattle Kingdome|          false|                 72|               0|            null|          DOME|       1|\n",
            "|     9/2/1979|           1979|            1|           false| St. Louis Cardinals|        21|        22|      Dallas Cowboys|             DAL|           -4.0|             37|Busch Memorial St...|          false|                 76|               7|              73|          null|       1|\n",
            "|     9/2/1979|           1979|            1|           false| Washington Redskins|        27|        29|      Houston Oilers|             TEN|           -4.0|             33|RFK Memorial Stadium|          false|                 80|              11|              85|          null|       1|\n",
            "|     9/3/1979|           1979|            1|           false|New England Patriots|        13|        16| Pittsburgh Steelers|             PIT|           -2.0|             37|     Foxboro Stadium|          false|                 78|              13|              80|          null|       1|\n",
            "|     9/6/1979|           1979|            2|           false|      Denver Broncos|         9|        13|    Los Angeles Rams|             DEN|           -2.0|           31.5|   Mile High Stadium|          false|                 67|               8|              50|          null|       1|\n",
            "|     9/9/1979|           1979|            2|           false|     Baltimore Colts|        26|        29|Tampa Bay Buccaneers|            PICK|            0.0|             33|Memorial Stadium ...|          false|                 64|               8|              65|          null|       1|\n",
            "|     9/9/1979|           1979|            2|           false|       Buffalo Bills|        51|        24|  Cincinnati Bengals|             CIN|           -3.0|             34|Ralph Wilson Stadium|          false|                 54|               7|              63|          null|       2|\n",
            "|     9/9/1979|           1979|            2|           false|       Chicago Bears|        26|         7|   Minnesota Vikings|             CHI|           -6.0|           31.5|       Soldier Field|          false|                 60|              11|              64|          null|       2|\n",
            "|     9/9/1979|           1979|            2|           false|       Detroit Lions|        24|        27| Washington Redskins|            PICK|            0.0|           35.5|  Pontiac Silverdome|          false|                 72|               0|            null|          DOME|       1|\n",
            "|     9/9/1979|           1979|            2|           false|   Green Bay Packers|        28|        19|  New Orleans Saints|              GB|           -3.0|             35|       Lambeau Field|          false|                 60|              13|              71|          null|       2|\n",
            "+-------------+---------------+-------------+----------------+--------------------+----------+----------+--------------------+----------------+---------------+---------------+--------------------+---------------+-------------------+----------------+----------------+--------------+--------+\n",
            "only showing top 20 rows\n",
            "\n"
          ]
        }
      ]
    },
    {
      "cell_type": "code",
      "source": [
        "cols = ('schedule_date', 'schedule_season', 'schedule_week', 'schedule_playoff', 'team_favorite_id','stadium_neutral','weather_humidity', 'over_under_line')\n",
        "NFL_short = NFL_guru_wins.drop(*cols)\n",
        "NFL_short.show()"
      ],
      "metadata": {
        "colab": {
          "base_uri": "https://localhost:8080/"
        },
        "id": "6DJSIo67Jkv6",
        "outputId": "1aeb8ee0-9384-43b1-ff9a-e82355672b91"
      },
      "execution_count": 9,
      "outputs": [
        {
          "output_type": "stream",
          "name": "stdout",
          "text": [
            "+--------------------+----------+----------+--------------------+---------------+--------------------+-------------------+----------------+--------------+--------+\n",
            "|           team_home|score_home|score_away|           team_away|spread_favorite|             stadium|weather_temperature|weather_wind_mph|weather_detail|home_win|\n",
            "+--------------------+----------+----------+--------------------+---------------+--------------------+-------------------+----------------+--------------+--------+\n",
            "|Tampa Bay Buccaneers|        31|        16|       Detroit Lions|           -3.0|  Houlihan's Stadium|                 79|               9|          null|       2|\n",
            "|       Buffalo Bills|         7|         9|      Miami Dolphins|           -5.0|Ralph Wilson Stadium|                 74|              15|          null|       1|\n",
            "|       Chicago Bears|         6|         3|   Green Bay Packers|           -3.0|       Soldier Field|                 78|              11|          null|       2|\n",
            "|      Denver Broncos|        10|         0|  Cincinnati Bengals|           -3.0|   Mile High Stadium|                 69|               6|          null|       2|\n",
            "|  Kansas City Chiefs|        14|         0|     Baltimore Colts|           -1.0|   Arrowhead Stadium|                 76|               8|          null|       2|\n",
            "|    Los Angeles Rams|        17|        24|     Oakland Raiders|           -4.0|     Anaheim Stadium|                 70|              10|          null|       1|\n",
            "|   Minnesota Vikings|        28|        22| San Francisco 49ers|           -7.0|Metropolitan Stadium|                 70|              11|          null|       2|\n",
            "|  New Orleans Saints|        34|        40|     Atlanta Falcons|           -5.0| Louisiana Superdome|                 72|               0|          DOME|       1|\n",
            "|       New York Jets|        22|        25|    Cleveland Browns|           -2.0|      Giants Stadium|                 73|              10|          null|       1|\n",
            "| Philadelphia Eagles|        23|        17|     New York Giants|           -7.0|    Veterans Stadium|                 76|               9|          null|       2|\n",
            "|    Seattle Seahawks|        16|        33|  San Diego Chargers|           -2.0|    Seattle Kingdome|                 72|               0|          DOME|       1|\n",
            "| St. Louis Cardinals|        21|        22|      Dallas Cowboys|           -4.0|Busch Memorial St...|                 76|               7|          null|       1|\n",
            "| Washington Redskins|        27|        29|      Houston Oilers|           -4.0|RFK Memorial Stadium|                 80|              11|          null|       1|\n",
            "|New England Patriots|        13|        16| Pittsburgh Steelers|           -2.0|     Foxboro Stadium|                 78|              13|          null|       1|\n",
            "|      Denver Broncos|         9|        13|    Los Angeles Rams|           -2.0|   Mile High Stadium|                 67|               8|          null|       1|\n",
            "|     Baltimore Colts|        26|        29|Tampa Bay Buccaneers|            0.0|Memorial Stadium ...|                 64|               8|          null|       1|\n",
            "|       Buffalo Bills|        51|        24|  Cincinnati Bengals|           -3.0|Ralph Wilson Stadium|                 54|               7|          null|       2|\n",
            "|       Chicago Bears|        26|         7|   Minnesota Vikings|           -6.0|       Soldier Field|                 60|              11|          null|       2|\n",
            "|       Detroit Lions|        24|        27| Washington Redskins|            0.0|  Pontiac Silverdome|                 72|               0|          DOME|       1|\n",
            "|   Green Bay Packers|        28|        19|  New Orleans Saints|           -3.0|       Lambeau Field|                 60|              13|          null|       2|\n",
            "+--------------------+----------+----------+--------------------+---------------+--------------------+-------------------+----------------+--------------+--------+\n",
            "only showing top 20 rows\n",
            "\n"
          ]
        }
      ]
    },
    {
      "cell_type": "code",
      "source": [
        "NFL_fix_weather = NFL_short.withColumn('weather_detail', F.when(NFL_short.weather_detail=='DOME','1').otherwise('0'))\n",
        "NFL_fix_weather.show()"
      ],
      "metadata": {
        "colab": {
          "base_uri": "https://localhost:8080/"
        },
        "id": "WHg-BiaBJxNK",
        "outputId": "28e77717-f177-4614-820c-4b97cd9afadf"
      },
      "execution_count": 10,
      "outputs": [
        {
          "output_type": "stream",
          "name": "stdout",
          "text": [
            "+--------------------+----------+----------+--------------------+---------------+--------------------+-------------------+----------------+--------------+--------+\n",
            "|           team_home|score_home|score_away|           team_away|spread_favorite|             stadium|weather_temperature|weather_wind_mph|weather_detail|home_win|\n",
            "+--------------------+----------+----------+--------------------+---------------+--------------------+-------------------+----------------+--------------+--------+\n",
            "|Tampa Bay Buccaneers|        31|        16|       Detroit Lions|           -3.0|  Houlihan's Stadium|                 79|               9|             0|       2|\n",
            "|       Buffalo Bills|         7|         9|      Miami Dolphins|           -5.0|Ralph Wilson Stadium|                 74|              15|             0|       1|\n",
            "|       Chicago Bears|         6|         3|   Green Bay Packers|           -3.0|       Soldier Field|                 78|              11|             0|       2|\n",
            "|      Denver Broncos|        10|         0|  Cincinnati Bengals|           -3.0|   Mile High Stadium|                 69|               6|             0|       2|\n",
            "|  Kansas City Chiefs|        14|         0|     Baltimore Colts|           -1.0|   Arrowhead Stadium|                 76|               8|             0|       2|\n",
            "|    Los Angeles Rams|        17|        24|     Oakland Raiders|           -4.0|     Anaheim Stadium|                 70|              10|             0|       1|\n",
            "|   Minnesota Vikings|        28|        22| San Francisco 49ers|           -7.0|Metropolitan Stadium|                 70|              11|             0|       2|\n",
            "|  New Orleans Saints|        34|        40|     Atlanta Falcons|           -5.0| Louisiana Superdome|                 72|               0|             1|       1|\n",
            "|       New York Jets|        22|        25|    Cleveland Browns|           -2.0|      Giants Stadium|                 73|              10|             0|       1|\n",
            "| Philadelphia Eagles|        23|        17|     New York Giants|           -7.0|    Veterans Stadium|                 76|               9|             0|       2|\n",
            "|    Seattle Seahawks|        16|        33|  San Diego Chargers|           -2.0|    Seattle Kingdome|                 72|               0|             1|       1|\n",
            "| St. Louis Cardinals|        21|        22|      Dallas Cowboys|           -4.0|Busch Memorial St...|                 76|               7|             0|       1|\n",
            "| Washington Redskins|        27|        29|      Houston Oilers|           -4.0|RFK Memorial Stadium|                 80|              11|             0|       1|\n",
            "|New England Patriots|        13|        16| Pittsburgh Steelers|           -2.0|     Foxboro Stadium|                 78|              13|             0|       1|\n",
            "|      Denver Broncos|         9|        13|    Los Angeles Rams|           -2.0|   Mile High Stadium|                 67|               8|             0|       1|\n",
            "|     Baltimore Colts|        26|        29|Tampa Bay Buccaneers|            0.0|Memorial Stadium ...|                 64|               8|             0|       1|\n",
            "|       Buffalo Bills|        51|        24|  Cincinnati Bengals|           -3.0|Ralph Wilson Stadium|                 54|               7|             0|       2|\n",
            "|       Chicago Bears|        26|         7|   Minnesota Vikings|           -6.0|       Soldier Field|                 60|              11|             0|       2|\n",
            "|       Detroit Lions|        24|        27| Washington Redskins|            0.0|  Pontiac Silverdome|                 72|               0|             1|       1|\n",
            "|   Green Bay Packers|        28|        19|  New Orleans Saints|           -3.0|       Lambeau Field|                 60|              13|             0|       2|\n",
            "+--------------------+----------+----------+--------------------+---------------+--------------------+-------------------+----------------+--------------+--------+\n",
            "only showing top 20 rows\n",
            "\n"
          ]
        }
      ]
    },
    {
      "cell_type": "code",
      "source": [
        "NFL_clean = NFL_fix_weather\n",
        "NFL_clean.show()"
      ],
      "metadata": {
        "colab": {
          "base_uri": "https://localhost:8080/"
        },
        "id": "_8bHDllZTCD6",
        "outputId": "259e18f8-0730-4817-f4a9-619f75847d85"
      },
      "execution_count": 11,
      "outputs": [
        {
          "output_type": "stream",
          "name": "stdout",
          "text": [
            "+--------------------+----------+----------+--------------------+---------------+--------------------+-------------------+----------------+--------------+--------+\n",
            "|           team_home|score_home|score_away|           team_away|spread_favorite|             stadium|weather_temperature|weather_wind_mph|weather_detail|home_win|\n",
            "+--------------------+----------+----------+--------------------+---------------+--------------------+-------------------+----------------+--------------+--------+\n",
            "|Tampa Bay Buccaneers|        31|        16|       Detroit Lions|           -3.0|  Houlihan's Stadium|                 79|               9|             0|       2|\n",
            "|       Buffalo Bills|         7|         9|      Miami Dolphins|           -5.0|Ralph Wilson Stadium|                 74|              15|             0|       1|\n",
            "|       Chicago Bears|         6|         3|   Green Bay Packers|           -3.0|       Soldier Field|                 78|              11|             0|       2|\n",
            "|      Denver Broncos|        10|         0|  Cincinnati Bengals|           -3.0|   Mile High Stadium|                 69|               6|             0|       2|\n",
            "|  Kansas City Chiefs|        14|         0|     Baltimore Colts|           -1.0|   Arrowhead Stadium|                 76|               8|             0|       2|\n",
            "|    Los Angeles Rams|        17|        24|     Oakland Raiders|           -4.0|     Anaheim Stadium|                 70|              10|             0|       1|\n",
            "|   Minnesota Vikings|        28|        22| San Francisco 49ers|           -7.0|Metropolitan Stadium|                 70|              11|             0|       2|\n",
            "|  New Orleans Saints|        34|        40|     Atlanta Falcons|           -5.0| Louisiana Superdome|                 72|               0|             1|       1|\n",
            "|       New York Jets|        22|        25|    Cleveland Browns|           -2.0|      Giants Stadium|                 73|              10|             0|       1|\n",
            "| Philadelphia Eagles|        23|        17|     New York Giants|           -7.0|    Veterans Stadium|                 76|               9|             0|       2|\n",
            "|    Seattle Seahawks|        16|        33|  San Diego Chargers|           -2.0|    Seattle Kingdome|                 72|               0|             1|       1|\n",
            "| St. Louis Cardinals|        21|        22|      Dallas Cowboys|           -4.0|Busch Memorial St...|                 76|               7|             0|       1|\n",
            "| Washington Redskins|        27|        29|      Houston Oilers|           -4.0|RFK Memorial Stadium|                 80|              11|             0|       1|\n",
            "|New England Patriots|        13|        16| Pittsburgh Steelers|           -2.0|     Foxboro Stadium|                 78|              13|             0|       1|\n",
            "|      Denver Broncos|         9|        13|    Los Angeles Rams|           -2.0|   Mile High Stadium|                 67|               8|             0|       1|\n",
            "|     Baltimore Colts|        26|        29|Tampa Bay Buccaneers|            0.0|Memorial Stadium ...|                 64|               8|             0|       1|\n",
            "|       Buffalo Bills|        51|        24|  Cincinnati Bengals|           -3.0|Ralph Wilson Stadium|                 54|               7|             0|       2|\n",
            "|       Chicago Bears|        26|         7|   Minnesota Vikings|           -6.0|       Soldier Field|                 60|              11|             0|       2|\n",
            "|       Detroit Lions|        24|        27| Washington Redskins|            0.0|  Pontiac Silverdome|                 72|               0|             1|       1|\n",
            "|   Green Bay Packers|        28|        19|  New Orleans Saints|           -3.0|       Lambeau Field|                 60|              13|             0|       2|\n",
            "+--------------------+----------+----------+--------------------+---------------+--------------------+-------------------+----------------+--------------+--------+\n",
            "only showing top 20 rows\n",
            "\n"
          ]
        }
      ]
    },
    {
      "cell_type": "code",
      "source": [
        "NFL_clean = NFL_clean.dropna()\n",
        "NFL_clean_df = NFL_clean.toPandas()\n",
        "NFL_clean_df.head()"
      ],
      "metadata": {
        "colab": {
          "base_uri": "https://localhost:8080/",
          "height": 370
        },
        "id": "zd5nzluyTQF6",
        "outputId": "40a8c6fd-4603-4e17-efec-db9fbadcba7b"
      },
      "execution_count": 25,
      "outputs": [
        {
          "output_type": "execute_result",
          "data": {
            "text/plain": [
              "              team_home  score_home  score_away           team_away  \\\n",
              "0  Tampa Bay Buccaneers          31          16       Detroit Lions   \n",
              "1         Buffalo Bills           7           9      Miami Dolphins   \n",
              "2         Chicago Bears           6           3   Green Bay Packers   \n",
              "3        Denver Broncos          10           0  Cincinnati Bengals   \n",
              "4    Kansas City Chiefs          14           0     Baltimore Colts   \n",
              "\n",
              "   spread_favorite               stadium  weather_temperature  \\\n",
              "0             -3.0    Houlihan's Stadium                   79   \n",
              "1             -5.0  Ralph Wilson Stadium                   74   \n",
              "2             -3.0         Soldier Field                   78   \n",
              "3             -3.0     Mile High Stadium                   69   \n",
              "4             -1.0     Arrowhead Stadium                   76   \n",
              "\n",
              "   weather_wind_mph weather_detail  home_win  \n",
              "0                 9              0         2  \n",
              "1                15              0         1  \n",
              "2                11              0         2  \n",
              "3                 6              0         2  \n",
              "4                 8              0         2  "
            ],
            "text/html": [
              "\n",
              "  <div id=\"df-f24e4d48-1a53-4f62-92c5-75af2dba8594\">\n",
              "    <div class=\"colab-df-container\">\n",
              "      <div>\n",
              "<style scoped>\n",
              "    .dataframe tbody tr th:only-of-type {\n",
              "        vertical-align: middle;\n",
              "    }\n",
              "\n",
              "    .dataframe tbody tr th {\n",
              "        vertical-align: top;\n",
              "    }\n",
              "\n",
              "    .dataframe thead th {\n",
              "        text-align: right;\n",
              "    }\n",
              "</style>\n",
              "<table border=\"1\" class=\"dataframe\">\n",
              "  <thead>\n",
              "    <tr style=\"text-align: right;\">\n",
              "      <th></th>\n",
              "      <th>team_home</th>\n",
              "      <th>score_home</th>\n",
              "      <th>score_away</th>\n",
              "      <th>team_away</th>\n",
              "      <th>spread_favorite</th>\n",
              "      <th>stadium</th>\n",
              "      <th>weather_temperature</th>\n",
              "      <th>weather_wind_mph</th>\n",
              "      <th>weather_detail</th>\n",
              "      <th>home_win</th>\n",
              "    </tr>\n",
              "  </thead>\n",
              "  <tbody>\n",
              "    <tr>\n",
              "      <th>0</th>\n",
              "      <td>Tampa Bay Buccaneers</td>\n",
              "      <td>31</td>\n",
              "      <td>16</td>\n",
              "      <td>Detroit Lions</td>\n",
              "      <td>-3.0</td>\n",
              "      <td>Houlihan's Stadium</td>\n",
              "      <td>79</td>\n",
              "      <td>9</td>\n",
              "      <td>0</td>\n",
              "      <td>2</td>\n",
              "    </tr>\n",
              "    <tr>\n",
              "      <th>1</th>\n",
              "      <td>Buffalo Bills</td>\n",
              "      <td>7</td>\n",
              "      <td>9</td>\n",
              "      <td>Miami Dolphins</td>\n",
              "      <td>-5.0</td>\n",
              "      <td>Ralph Wilson Stadium</td>\n",
              "      <td>74</td>\n",
              "      <td>15</td>\n",
              "      <td>0</td>\n",
              "      <td>1</td>\n",
              "    </tr>\n",
              "    <tr>\n",
              "      <th>2</th>\n",
              "      <td>Chicago Bears</td>\n",
              "      <td>6</td>\n",
              "      <td>3</td>\n",
              "      <td>Green Bay Packers</td>\n",
              "      <td>-3.0</td>\n",
              "      <td>Soldier Field</td>\n",
              "      <td>78</td>\n",
              "      <td>11</td>\n",
              "      <td>0</td>\n",
              "      <td>2</td>\n",
              "    </tr>\n",
              "    <tr>\n",
              "      <th>3</th>\n",
              "      <td>Denver Broncos</td>\n",
              "      <td>10</td>\n",
              "      <td>0</td>\n",
              "      <td>Cincinnati Bengals</td>\n",
              "      <td>-3.0</td>\n",
              "      <td>Mile High Stadium</td>\n",
              "      <td>69</td>\n",
              "      <td>6</td>\n",
              "      <td>0</td>\n",
              "      <td>2</td>\n",
              "    </tr>\n",
              "    <tr>\n",
              "      <th>4</th>\n",
              "      <td>Kansas City Chiefs</td>\n",
              "      <td>14</td>\n",
              "      <td>0</td>\n",
              "      <td>Baltimore Colts</td>\n",
              "      <td>-1.0</td>\n",
              "      <td>Arrowhead Stadium</td>\n",
              "      <td>76</td>\n",
              "      <td>8</td>\n",
              "      <td>0</td>\n",
              "      <td>2</td>\n",
              "    </tr>\n",
              "  </tbody>\n",
              "</table>\n",
              "</div>\n",
              "      <button class=\"colab-df-convert\" onclick=\"convertToInteractive('df-f24e4d48-1a53-4f62-92c5-75af2dba8594')\"\n",
              "              title=\"Convert this dataframe to an interactive table.\"\n",
              "              style=\"display:none;\">\n",
              "        \n",
              "  <svg xmlns=\"http://www.w3.org/2000/svg\" height=\"24px\"viewBox=\"0 0 24 24\"\n",
              "       width=\"24px\">\n",
              "    <path d=\"M0 0h24v24H0V0z\" fill=\"none\"/>\n",
              "    <path d=\"M18.56 5.44l.94 2.06.94-2.06 2.06-.94-2.06-.94-.94-2.06-.94 2.06-2.06.94zm-11 1L8.5 8.5l.94-2.06 2.06-.94-2.06-.94L8.5 2.5l-.94 2.06-2.06.94zm10 10l.94 2.06.94-2.06 2.06-.94-2.06-.94-.94-2.06-.94 2.06-2.06.94z\"/><path d=\"M17.41 7.96l-1.37-1.37c-.4-.4-.92-.59-1.43-.59-.52 0-1.04.2-1.43.59L10.3 9.45l-7.72 7.72c-.78.78-.78 2.05 0 2.83L4 21.41c.39.39.9.59 1.41.59.51 0 1.02-.2 1.41-.59l7.78-7.78 2.81-2.81c.8-.78.8-2.07 0-2.86zM5.41 20L4 18.59l7.72-7.72 1.47 1.35L5.41 20z\"/>\n",
              "  </svg>\n",
              "      </button>\n",
              "      \n",
              "  <style>\n",
              "    .colab-df-container {\n",
              "      display:flex;\n",
              "      flex-wrap:wrap;\n",
              "      gap: 12px;\n",
              "    }\n",
              "\n",
              "    .colab-df-convert {\n",
              "      background-color: #E8F0FE;\n",
              "      border: none;\n",
              "      border-radius: 50%;\n",
              "      cursor: pointer;\n",
              "      display: none;\n",
              "      fill: #1967D2;\n",
              "      height: 32px;\n",
              "      padding: 0 0 0 0;\n",
              "      width: 32px;\n",
              "    }\n",
              "\n",
              "    .colab-df-convert:hover {\n",
              "      background-color: #E2EBFA;\n",
              "      box-shadow: 0px 1px 2px rgba(60, 64, 67, 0.3), 0px 1px 3px 1px rgba(60, 64, 67, 0.15);\n",
              "      fill: #174EA6;\n",
              "    }\n",
              "\n",
              "    [theme=dark] .colab-df-convert {\n",
              "      background-color: #3B4455;\n",
              "      fill: #D2E3FC;\n",
              "    }\n",
              "\n",
              "    [theme=dark] .colab-df-convert:hover {\n",
              "      background-color: #434B5C;\n",
              "      box-shadow: 0px 1px 3px 1px rgba(0, 0, 0, 0.15);\n",
              "      filter: drop-shadow(0px 1px 2px rgba(0, 0, 0, 0.3));\n",
              "      fill: #FFFFFF;\n",
              "    }\n",
              "  </style>\n",
              "\n",
              "      <script>\n",
              "        const buttonEl =\n",
              "          document.querySelector('#df-f24e4d48-1a53-4f62-92c5-75af2dba8594 button.colab-df-convert');\n",
              "        buttonEl.style.display =\n",
              "          google.colab.kernel.accessAllowed ? 'block' : 'none';\n",
              "\n",
              "        async function convertToInteractive(key) {\n",
              "          const element = document.querySelector('#df-f24e4d48-1a53-4f62-92c5-75af2dba8594');\n",
              "          const dataTable =\n",
              "            await google.colab.kernel.invokeFunction('convertToInteractive',\n",
              "                                                     [key], {});\n",
              "          if (!dataTable) return;\n",
              "\n",
              "          const docLinkHtml = 'Like what you see? Visit the ' +\n",
              "            '<a target=\"_blank\" href=https://colab.research.google.com/notebooks/data_table.ipynb>data table notebook</a>'\n",
              "            + ' to learn more about interactive tables.';\n",
              "          element.innerHTML = '';\n",
              "          dataTable['output_type'] = 'display_data';\n",
              "          await google.colab.output.renderOutput(dataTable, element);\n",
              "          const docLink = document.createElement('div');\n",
              "          docLink.innerHTML = docLinkHtml;\n",
              "          element.appendChild(docLink);\n",
              "        }\n",
              "      </script>\n",
              "    </div>\n",
              "  </div>\n",
              "  "
            ]
          },
          "metadata": {},
          "execution_count": 25
        }
      ]
    },
    {
      "cell_type": "code",
      "source": [
        "#drop the nas ealier \n",
        "NFL_clean_df = NFL_clean_df.dropna()"
      ],
      "metadata": {
        "id": "wGhv9JSVTRQr"
      },
      "execution_count": 26,
      "outputs": []
    },
    {
      "cell_type": "code",
      "source": [
        "NFL_guru_jetsbills = NFL_guru_current.filter(((NFL_guru_current.team_home == 'New York Jets') & (NFL_guru_current.team_away == 'Buffalo Bills')) | ((NFL_guru_current.team_home == 'Buffalo Bills') & (NFL_guru_current.team_away == 'New York Jets')))\n",
        "NFL_guru_jetsbills.show()"
      ],
      "metadata": {
        "colab": {
          "base_uri": "https://localhost:8080/"
        },
        "id": "j6rpoouISukG",
        "outputId": "8fff9643-3072-4b87-928c-8950046781dd"
      },
      "execution_count": 27,
      "outputs": [
        {
          "output_type": "stream",
          "name": "stdout",
          "text": [
            "+-------------+---------------+-------------+----------------+-------------+----------+----------+-------------+----------------+---------------+---------------+--------------------+---------------+-------------------+----------------+----------------+--------------+\n",
            "|schedule_date|schedule_season|schedule_week|schedule_playoff|    team_home|score_home|score_away|    team_away|team_favorite_id|spread_favorite|over_under_line|             stadium|stadium_neutral|weather_temperature|weather_wind_mph|weather_humidity|weather_detail|\n",
            "+-------------+---------------+-------------+----------------+-------------+----------+----------+-------------+----------------+---------------+---------------+--------------------+---------------+-------------------+----------------+----------------+--------------+\n",
            "|    9/23/1979|           1979|            4|           false|Buffalo Bills|        46|        31|New York Jets|             BUF|           -3.0|             42|Ralph Wilson Stadium|          false|                 50|               9|              66|          null|\n",
            "|   11/11/1979|           1979|           11|           false|New York Jets|        12|        14|Buffalo Bills|             NYJ|           -6.0|             42|      Giants Stadium|          false|                 52|              10|              78|          null|\n",
            "|    9/14/1980|           1980|            2|           false|Buffalo Bills|        20|        10|New York Jets|            PICK|            0.0|             34|Ralph Wilson Stadium|          false|                 68|              13|              92|          null|\n",
            "|    11/9/1980|           1980|           10|           false|New York Jets|        24|        31|Buffalo Bills|             BUF|           -4.0|             38|      Giants Stadium|          false|                 44|              12|              66|          null|\n",
            "|     9/6/1981|           1981|            1|           false|Buffalo Bills|        31|         0|New York Jets|             BUF|           -4.0|             41|Ralph Wilson Stadium|          false|                 66|               8|              94|          null|\n",
            "|   10/18/1981|           1981|            7|           false|New York Jets|        33|        14|Buffalo Bills|             BUF|           -3.0|             46|      Giants Stadium|          false|                 55|              17|              70|          null|\n",
            "|   12/27/1981|           1981|     Wildcard|            true|New York Jets|        27|        31|Buffalo Bills|             NYJ|           -3.0|               |      Giants Stadium|          false|               null|            null|            null|          null|\n",
            "|    10/3/1983|           1983|            5|           false|Buffalo Bills|        10|        34|New York Jets|             NYJ|           -2.0|             44|Ralph Wilson Stadium|          false|                 68|              18|              58|          null|\n",
            "|   11/13/1983|           1983|           11|           false|New York Jets|        17|        24|Buffalo Bills|             NYJ|           -3.5|           41.5|      Giants Stadium|          false|                 37|              19|              55|          null|\n",
            "|    9/23/1984|           1984|            4|           false|Buffalo Bills|        26|        28|New York Jets|             NYJ|           -2.0|             40|Ralph Wilson Stadium|          false|                 70|              16|              73|          null|\n",
            "|    12/8/1984|           1984|           15|           false|New York Jets|        21|        17|Buffalo Bills|             NYJ|           -6.5|             39|      Giants Stadium|          false|                 32|              18|              50|          null|\n",
            "|    9/15/1985|           1985|            2|           false|New York Jets|        42|         3|Buffalo Bills|             NYJ|           -3.5|             40|      Giants Stadium|          false|                 65|              10|              50|          null|\n",
            "|    12/8/1985|           1985|           14|           false|Buffalo Bills|         7|        27|New York Jets|             NYJ|           -9.0|           36.5|Ralph Wilson Stadium|          false|                 34|              15|              85|          null|\n",
            "|     9/7/1986|           1986|            1|           false|Buffalo Bills|        24|        28|New York Jets|             NYJ|           -6.0|             40|Ralph Wilson Stadium|          false|                 56|              12|              61|          null|\n",
            "|    10/5/1986|           1986|            5|           false|New York Jets|        14|        13|Buffalo Bills|             NYJ|           -7.5|           45.5|      Giants Stadium|          false|                 68|              18|              66|          null|\n",
            "|    9/13/1987|           1987|            1|           false|Buffalo Bills|        28|        31|New York Jets|             NYJ|           -1.5|             44|Ralph Wilson Stadium|          false|                 70|               9|              87|          null|\n",
            "|   11/22/1987|           1987|           11|           false|New York Jets|        14|        17|Buffalo Bills|             NYJ|           -3.5|           42.5|      Giants Stadium|          false|                 27|              26|              45|          null|\n",
            "|   10/17/1988|           1988|            7|           false|New York Jets|        14|        37|Buffalo Bills|             NYJ|           -2.0|             40|      Giants Stadium|          false|                 63|              13|              81|          null|\n",
            "|   11/20/1988|           1988|           12|           false|Buffalo Bills|         9|         6|New York Jets|             BUF|           -7.0|             37|Ralph Wilson Stadium|          false|                 43|              10|              87|          null|\n",
            "|   10/22/1989|           1989|            7|           false|Buffalo Bills|        34|         3|New York Jets|             BUF|           -6.5|             39|Ralph Wilson Stadium|          false|                 44|              17|              73|          null|\n",
            "+-------------+---------------+-------------+----------------+-------------+----------+----------+-------------+----------------+---------------+---------------+--------------------+---------------+-------------------+----------------+----------------+--------------+\n",
            "only showing top 20 rows\n",
            "\n"
          ]
        }
      ]
    },
    {
      "cell_type": "code",
      "source": [
        "NFL_guru_jetsbills = NFL_guru_jetsbills.withColumn('home_win',\n",
        "                                            F.when((F.col('score_home')>F.col('score_away')), 2)\\\n",
        "                                            .when((F.col('score_home')<F.col('score_away')), 1).otherwise(1)                                   \n",
        "                                            )"
      ],
      "metadata": {
        "id": "xRFJwXweybgO"
      },
      "execution_count": 28,
      "outputs": []
    },
    {
      "cell_type": "code",
      "source": [
        "NFL_guru_jetsbills = NFL_guru_jetsbills.drop(*cols)\n",
        "NFL_guru_jetsbills.show()"
      ],
      "metadata": {
        "colab": {
          "base_uri": "https://localhost:8080/"
        },
        "id": "HsGOR453y7jw",
        "outputId": "7c72069e-234c-4615-9516-e0c0c31abb93"
      },
      "execution_count": 29,
      "outputs": [
        {
          "output_type": "stream",
          "name": "stdout",
          "text": [
            "+-------------+----------+----------+-------------+---------------+--------------------+-------------------+----------------+--------------+--------+\n",
            "|    team_home|score_home|score_away|    team_away|spread_favorite|             stadium|weather_temperature|weather_wind_mph|weather_detail|home_win|\n",
            "+-------------+----------+----------+-------------+---------------+--------------------+-------------------+----------------+--------------+--------+\n",
            "|Buffalo Bills|        46|        31|New York Jets|           -3.0|Ralph Wilson Stadium|                 50|               9|          null|       2|\n",
            "|New York Jets|        12|        14|Buffalo Bills|           -6.0|      Giants Stadium|                 52|              10|          null|       1|\n",
            "|Buffalo Bills|        20|        10|New York Jets|            0.0|Ralph Wilson Stadium|                 68|              13|          null|       2|\n",
            "|New York Jets|        24|        31|Buffalo Bills|           -4.0|      Giants Stadium|                 44|              12|          null|       1|\n",
            "|Buffalo Bills|        31|         0|New York Jets|           -4.0|Ralph Wilson Stadium|                 66|               8|          null|       2|\n",
            "|New York Jets|        33|        14|Buffalo Bills|           -3.0|      Giants Stadium|                 55|              17|          null|       2|\n",
            "|New York Jets|        27|        31|Buffalo Bills|           -3.0|      Giants Stadium|               null|            null|          null|       1|\n",
            "|Buffalo Bills|        10|        34|New York Jets|           -2.0|Ralph Wilson Stadium|                 68|              18|          null|       1|\n",
            "|New York Jets|        17|        24|Buffalo Bills|           -3.5|      Giants Stadium|                 37|              19|          null|       1|\n",
            "|Buffalo Bills|        26|        28|New York Jets|           -2.0|Ralph Wilson Stadium|                 70|              16|          null|       1|\n",
            "|New York Jets|        21|        17|Buffalo Bills|           -6.5|      Giants Stadium|                 32|              18|          null|       2|\n",
            "|New York Jets|        42|         3|Buffalo Bills|           -3.5|      Giants Stadium|                 65|              10|          null|       2|\n",
            "|Buffalo Bills|         7|        27|New York Jets|           -9.0|Ralph Wilson Stadium|                 34|              15|          null|       1|\n",
            "|Buffalo Bills|        24|        28|New York Jets|           -6.0|Ralph Wilson Stadium|                 56|              12|          null|       1|\n",
            "|New York Jets|        14|        13|Buffalo Bills|           -7.5|      Giants Stadium|                 68|              18|          null|       2|\n",
            "|Buffalo Bills|        28|        31|New York Jets|           -1.5|Ralph Wilson Stadium|                 70|               9|          null|       1|\n",
            "|New York Jets|        14|        17|Buffalo Bills|           -3.5|      Giants Stadium|                 27|              26|          null|       1|\n",
            "|New York Jets|        14|        37|Buffalo Bills|           -2.0|      Giants Stadium|                 63|              13|          null|       1|\n",
            "|Buffalo Bills|         9|         6|New York Jets|           -7.0|Ralph Wilson Stadium|                 43|              10|          null|       2|\n",
            "|Buffalo Bills|        34|         3|New York Jets|           -6.5|Ralph Wilson Stadium|                 44|              17|          null|       2|\n",
            "+-------------+----------+----------+-------------+---------------+--------------------+-------------------+----------------+--------------+--------+\n",
            "only showing top 20 rows\n",
            "\n"
          ]
        }
      ]
    },
    {
      "cell_type": "code",
      "source": [
        "NFL_guru_jetsbills = NFL_guru_jetsbills.withColumn('weather_detail', F.when(NFL_short.weather_detail=='DOME','1').otherwise('0'))"
      ],
      "metadata": {
        "id": "tuvtcqrGzDcq"
      },
      "execution_count": 30,
      "outputs": []
    },
    {
      "cell_type": "code",
      "source": [
        "NFL_guru_jetsbills_df = NFL_guru_jetsbills.toPandas()\n",
        "NFL_guru_jetsbills_df.head()"
      ],
      "metadata": {
        "id": "pI0xc3rAPMHc",
        "colab": {
          "base_uri": "https://localhost:8080/",
          "height": 404
        },
        "outputId": "339bb252-b335-4d48-9d59-1c9133aa4b2e"
      },
      "execution_count": 31,
      "outputs": [
        {
          "output_type": "execute_result",
          "data": {
            "text/plain": [
              "       team_home  score_home  score_away      team_away  spread_favorite  \\\n",
              "0  Buffalo Bills          46          31  New York Jets             -3.0   \n",
              "1  New York Jets          12          14  Buffalo Bills             -6.0   \n",
              "2  Buffalo Bills          20          10  New York Jets              0.0   \n",
              "3  New York Jets          24          31  Buffalo Bills             -4.0   \n",
              "4  Buffalo Bills          31           0  New York Jets             -4.0   \n",
              "\n",
              "                stadium  weather_temperature  weather_wind_mph weather_detail  \\\n",
              "0  Ralph Wilson Stadium                 50.0               9.0              0   \n",
              "1        Giants Stadium                 52.0              10.0              0   \n",
              "2  Ralph Wilson Stadium                 68.0              13.0              0   \n",
              "3        Giants Stadium                 44.0              12.0              0   \n",
              "4  Ralph Wilson Stadium                 66.0               8.0              0   \n",
              "\n",
              "   home_win  \n",
              "0         2  \n",
              "1         1  \n",
              "2         2  \n",
              "3         1  \n",
              "4         2  "
            ],
            "text/html": [
              "\n",
              "  <div id=\"df-baf2591f-befa-4053-914c-e5045ca25054\">\n",
              "    <div class=\"colab-df-container\">\n",
              "      <div>\n",
              "<style scoped>\n",
              "    .dataframe tbody tr th:only-of-type {\n",
              "        vertical-align: middle;\n",
              "    }\n",
              "\n",
              "    .dataframe tbody tr th {\n",
              "        vertical-align: top;\n",
              "    }\n",
              "\n",
              "    .dataframe thead th {\n",
              "        text-align: right;\n",
              "    }\n",
              "</style>\n",
              "<table border=\"1\" class=\"dataframe\">\n",
              "  <thead>\n",
              "    <tr style=\"text-align: right;\">\n",
              "      <th></th>\n",
              "      <th>team_home</th>\n",
              "      <th>score_home</th>\n",
              "      <th>score_away</th>\n",
              "      <th>team_away</th>\n",
              "      <th>spread_favorite</th>\n",
              "      <th>stadium</th>\n",
              "      <th>weather_temperature</th>\n",
              "      <th>weather_wind_mph</th>\n",
              "      <th>weather_detail</th>\n",
              "      <th>home_win</th>\n",
              "    </tr>\n",
              "  </thead>\n",
              "  <tbody>\n",
              "    <tr>\n",
              "      <th>0</th>\n",
              "      <td>Buffalo Bills</td>\n",
              "      <td>46</td>\n",
              "      <td>31</td>\n",
              "      <td>New York Jets</td>\n",
              "      <td>-3.0</td>\n",
              "      <td>Ralph Wilson Stadium</td>\n",
              "      <td>50.0</td>\n",
              "      <td>9.0</td>\n",
              "      <td>0</td>\n",
              "      <td>2</td>\n",
              "    </tr>\n",
              "    <tr>\n",
              "      <th>1</th>\n",
              "      <td>New York Jets</td>\n",
              "      <td>12</td>\n",
              "      <td>14</td>\n",
              "      <td>Buffalo Bills</td>\n",
              "      <td>-6.0</td>\n",
              "      <td>Giants Stadium</td>\n",
              "      <td>52.0</td>\n",
              "      <td>10.0</td>\n",
              "      <td>0</td>\n",
              "      <td>1</td>\n",
              "    </tr>\n",
              "    <tr>\n",
              "      <th>2</th>\n",
              "      <td>Buffalo Bills</td>\n",
              "      <td>20</td>\n",
              "      <td>10</td>\n",
              "      <td>New York Jets</td>\n",
              "      <td>0.0</td>\n",
              "      <td>Ralph Wilson Stadium</td>\n",
              "      <td>68.0</td>\n",
              "      <td>13.0</td>\n",
              "      <td>0</td>\n",
              "      <td>2</td>\n",
              "    </tr>\n",
              "    <tr>\n",
              "      <th>3</th>\n",
              "      <td>New York Jets</td>\n",
              "      <td>24</td>\n",
              "      <td>31</td>\n",
              "      <td>Buffalo Bills</td>\n",
              "      <td>-4.0</td>\n",
              "      <td>Giants Stadium</td>\n",
              "      <td>44.0</td>\n",
              "      <td>12.0</td>\n",
              "      <td>0</td>\n",
              "      <td>1</td>\n",
              "    </tr>\n",
              "    <tr>\n",
              "      <th>4</th>\n",
              "      <td>Buffalo Bills</td>\n",
              "      <td>31</td>\n",
              "      <td>0</td>\n",
              "      <td>New York Jets</td>\n",
              "      <td>-4.0</td>\n",
              "      <td>Ralph Wilson Stadium</td>\n",
              "      <td>66.0</td>\n",
              "      <td>8.0</td>\n",
              "      <td>0</td>\n",
              "      <td>2</td>\n",
              "    </tr>\n",
              "  </tbody>\n",
              "</table>\n",
              "</div>\n",
              "      <button class=\"colab-df-convert\" onclick=\"convertToInteractive('df-baf2591f-befa-4053-914c-e5045ca25054')\"\n",
              "              title=\"Convert this dataframe to an interactive table.\"\n",
              "              style=\"display:none;\">\n",
              "        \n",
              "  <svg xmlns=\"http://www.w3.org/2000/svg\" height=\"24px\"viewBox=\"0 0 24 24\"\n",
              "       width=\"24px\">\n",
              "    <path d=\"M0 0h24v24H0V0z\" fill=\"none\"/>\n",
              "    <path d=\"M18.56 5.44l.94 2.06.94-2.06 2.06-.94-2.06-.94-.94-2.06-.94 2.06-2.06.94zm-11 1L8.5 8.5l.94-2.06 2.06-.94-2.06-.94L8.5 2.5l-.94 2.06-2.06.94zm10 10l.94 2.06.94-2.06 2.06-.94-2.06-.94-.94-2.06-.94 2.06-2.06.94z\"/><path d=\"M17.41 7.96l-1.37-1.37c-.4-.4-.92-.59-1.43-.59-.52 0-1.04.2-1.43.59L10.3 9.45l-7.72 7.72c-.78.78-.78 2.05 0 2.83L4 21.41c.39.39.9.59 1.41.59.51 0 1.02-.2 1.41-.59l7.78-7.78 2.81-2.81c.8-.78.8-2.07 0-2.86zM5.41 20L4 18.59l7.72-7.72 1.47 1.35L5.41 20z\"/>\n",
              "  </svg>\n",
              "      </button>\n",
              "      \n",
              "  <style>\n",
              "    .colab-df-container {\n",
              "      display:flex;\n",
              "      flex-wrap:wrap;\n",
              "      gap: 12px;\n",
              "    }\n",
              "\n",
              "    .colab-df-convert {\n",
              "      background-color: #E8F0FE;\n",
              "      border: none;\n",
              "      border-radius: 50%;\n",
              "      cursor: pointer;\n",
              "      display: none;\n",
              "      fill: #1967D2;\n",
              "      height: 32px;\n",
              "      padding: 0 0 0 0;\n",
              "      width: 32px;\n",
              "    }\n",
              "\n",
              "    .colab-df-convert:hover {\n",
              "      background-color: #E2EBFA;\n",
              "      box-shadow: 0px 1px 2px rgba(60, 64, 67, 0.3), 0px 1px 3px 1px rgba(60, 64, 67, 0.15);\n",
              "      fill: #174EA6;\n",
              "    }\n",
              "\n",
              "    [theme=dark] .colab-df-convert {\n",
              "      background-color: #3B4455;\n",
              "      fill: #D2E3FC;\n",
              "    }\n",
              "\n",
              "    [theme=dark] .colab-df-convert:hover {\n",
              "      background-color: #434B5C;\n",
              "      box-shadow: 0px 1px 3px 1px rgba(0, 0, 0, 0.15);\n",
              "      filter: drop-shadow(0px 1px 2px rgba(0, 0, 0, 0.3));\n",
              "      fill: #FFFFFF;\n",
              "    }\n",
              "  </style>\n",
              "\n",
              "      <script>\n",
              "        const buttonEl =\n",
              "          document.querySelector('#df-baf2591f-befa-4053-914c-e5045ca25054 button.colab-df-convert');\n",
              "        buttonEl.style.display =\n",
              "          google.colab.kernel.accessAllowed ? 'block' : 'none';\n",
              "\n",
              "        async function convertToInteractive(key) {\n",
              "          const element = document.querySelector('#df-baf2591f-befa-4053-914c-e5045ca25054');\n",
              "          const dataTable =\n",
              "            await google.colab.kernel.invokeFunction('convertToInteractive',\n",
              "                                                     [key], {});\n",
              "          if (!dataTable) return;\n",
              "\n",
              "          const docLinkHtml = 'Like what you see? Visit the ' +\n",
              "            '<a target=\"_blank\" href=https://colab.research.google.com/notebooks/data_table.ipynb>data table notebook</a>'\n",
              "            + ' to learn more about interactive tables.';\n",
              "          element.innerHTML = '';\n",
              "          dataTable['output_type'] = 'display_data';\n",
              "          await google.colab.output.renderOutput(dataTable, element);\n",
              "          const docLink = document.createElement('div');\n",
              "          docLink.innerHTML = docLinkHtml;\n",
              "          element.appendChild(docLink);\n",
              "        }\n",
              "      </script>\n",
              "    </div>\n",
              "  </div>\n",
              "  "
            ]
          },
          "metadata": {},
          "execution_count": 31
        }
      ]
    },
    {
      "cell_type": "code",
      "source": [
        "#drop the nas ealier \n",
        "NFL_guru_jetsbills_df =NFL_guru_jetsbills_df.dropna()"
      ],
      "metadata": {
        "id": "UOeoXlxOPMLF"
      },
      "execution_count": 32,
      "outputs": []
    },
    {
      "cell_type": "code",
      "source": [
        "def change_string(team_home):\n",
        "    if team_home == \"Buffalo Bills\":\n",
        "        return 1 \n",
        "    else:\n",
        "        return 0\n",
        "    \n",
        "NFL_guru_jetsbills_df[\"team_home\"]= NFL_guru_jetsbills_df[\"team_home\"].apply(change_string)\n",
        "NFL_guru_jetsbills_df.head()"
      ],
      "metadata": {
        "colab": {
          "base_uri": "https://localhost:8080/",
          "height": 404
        },
        "id": "jUYnW4833wO-",
        "outputId": "1cb70a01-1109-460f-b38c-a0b5e516b08c"
      },
      "execution_count": 33,
      "outputs": [
        {
          "output_type": "execute_result",
          "data": {
            "text/plain": [
              "   team_home  score_home  score_away      team_away  spread_favorite  \\\n",
              "0          1          46          31  New York Jets             -3.0   \n",
              "1          0          12          14  Buffalo Bills             -6.0   \n",
              "2          1          20          10  New York Jets              0.0   \n",
              "3          0          24          31  Buffalo Bills             -4.0   \n",
              "4          1          31           0  New York Jets             -4.0   \n",
              "\n",
              "                stadium  weather_temperature  weather_wind_mph weather_detail  \\\n",
              "0  Ralph Wilson Stadium                 50.0               9.0              0   \n",
              "1        Giants Stadium                 52.0              10.0              0   \n",
              "2  Ralph Wilson Stadium                 68.0              13.0              0   \n",
              "3        Giants Stadium                 44.0              12.0              0   \n",
              "4  Ralph Wilson Stadium                 66.0               8.0              0   \n",
              "\n",
              "   home_win  \n",
              "0         2  \n",
              "1         1  \n",
              "2         2  \n",
              "3         1  \n",
              "4         2  "
            ],
            "text/html": [
              "\n",
              "  <div id=\"df-80ccde98-bb29-409a-b5f0-367eb380e492\">\n",
              "    <div class=\"colab-df-container\">\n",
              "      <div>\n",
              "<style scoped>\n",
              "    .dataframe tbody tr th:only-of-type {\n",
              "        vertical-align: middle;\n",
              "    }\n",
              "\n",
              "    .dataframe tbody tr th {\n",
              "        vertical-align: top;\n",
              "    }\n",
              "\n",
              "    .dataframe thead th {\n",
              "        text-align: right;\n",
              "    }\n",
              "</style>\n",
              "<table border=\"1\" class=\"dataframe\">\n",
              "  <thead>\n",
              "    <tr style=\"text-align: right;\">\n",
              "      <th></th>\n",
              "      <th>team_home</th>\n",
              "      <th>score_home</th>\n",
              "      <th>score_away</th>\n",
              "      <th>team_away</th>\n",
              "      <th>spread_favorite</th>\n",
              "      <th>stadium</th>\n",
              "      <th>weather_temperature</th>\n",
              "      <th>weather_wind_mph</th>\n",
              "      <th>weather_detail</th>\n",
              "      <th>home_win</th>\n",
              "    </tr>\n",
              "  </thead>\n",
              "  <tbody>\n",
              "    <tr>\n",
              "      <th>0</th>\n",
              "      <td>1</td>\n",
              "      <td>46</td>\n",
              "      <td>31</td>\n",
              "      <td>New York Jets</td>\n",
              "      <td>-3.0</td>\n",
              "      <td>Ralph Wilson Stadium</td>\n",
              "      <td>50.0</td>\n",
              "      <td>9.0</td>\n",
              "      <td>0</td>\n",
              "      <td>2</td>\n",
              "    </tr>\n",
              "    <tr>\n",
              "      <th>1</th>\n",
              "      <td>0</td>\n",
              "      <td>12</td>\n",
              "      <td>14</td>\n",
              "      <td>Buffalo Bills</td>\n",
              "      <td>-6.0</td>\n",
              "      <td>Giants Stadium</td>\n",
              "      <td>52.0</td>\n",
              "      <td>10.0</td>\n",
              "      <td>0</td>\n",
              "      <td>1</td>\n",
              "    </tr>\n",
              "    <tr>\n",
              "      <th>2</th>\n",
              "      <td>1</td>\n",
              "      <td>20</td>\n",
              "      <td>10</td>\n",
              "      <td>New York Jets</td>\n",
              "      <td>0.0</td>\n",
              "      <td>Ralph Wilson Stadium</td>\n",
              "      <td>68.0</td>\n",
              "      <td>13.0</td>\n",
              "      <td>0</td>\n",
              "      <td>2</td>\n",
              "    </tr>\n",
              "    <tr>\n",
              "      <th>3</th>\n",
              "      <td>0</td>\n",
              "      <td>24</td>\n",
              "      <td>31</td>\n",
              "      <td>Buffalo Bills</td>\n",
              "      <td>-4.0</td>\n",
              "      <td>Giants Stadium</td>\n",
              "      <td>44.0</td>\n",
              "      <td>12.0</td>\n",
              "      <td>0</td>\n",
              "      <td>1</td>\n",
              "    </tr>\n",
              "    <tr>\n",
              "      <th>4</th>\n",
              "      <td>1</td>\n",
              "      <td>31</td>\n",
              "      <td>0</td>\n",
              "      <td>New York Jets</td>\n",
              "      <td>-4.0</td>\n",
              "      <td>Ralph Wilson Stadium</td>\n",
              "      <td>66.0</td>\n",
              "      <td>8.0</td>\n",
              "      <td>0</td>\n",
              "      <td>2</td>\n",
              "    </tr>\n",
              "  </tbody>\n",
              "</table>\n",
              "</div>\n",
              "      <button class=\"colab-df-convert\" onclick=\"convertToInteractive('df-80ccde98-bb29-409a-b5f0-367eb380e492')\"\n",
              "              title=\"Convert this dataframe to an interactive table.\"\n",
              "              style=\"display:none;\">\n",
              "        \n",
              "  <svg xmlns=\"http://www.w3.org/2000/svg\" height=\"24px\"viewBox=\"0 0 24 24\"\n",
              "       width=\"24px\">\n",
              "    <path d=\"M0 0h24v24H0V0z\" fill=\"none\"/>\n",
              "    <path d=\"M18.56 5.44l.94 2.06.94-2.06 2.06-.94-2.06-.94-.94-2.06-.94 2.06-2.06.94zm-11 1L8.5 8.5l.94-2.06 2.06-.94-2.06-.94L8.5 2.5l-.94 2.06-2.06.94zm10 10l.94 2.06.94-2.06 2.06-.94-2.06-.94-.94-2.06-.94 2.06-2.06.94z\"/><path d=\"M17.41 7.96l-1.37-1.37c-.4-.4-.92-.59-1.43-.59-.52 0-1.04.2-1.43.59L10.3 9.45l-7.72 7.72c-.78.78-.78 2.05 0 2.83L4 21.41c.39.39.9.59 1.41.59.51 0 1.02-.2 1.41-.59l7.78-7.78 2.81-2.81c.8-.78.8-2.07 0-2.86zM5.41 20L4 18.59l7.72-7.72 1.47 1.35L5.41 20z\"/>\n",
              "  </svg>\n",
              "      </button>\n",
              "      \n",
              "  <style>\n",
              "    .colab-df-container {\n",
              "      display:flex;\n",
              "      flex-wrap:wrap;\n",
              "      gap: 12px;\n",
              "    }\n",
              "\n",
              "    .colab-df-convert {\n",
              "      background-color: #E8F0FE;\n",
              "      border: none;\n",
              "      border-radius: 50%;\n",
              "      cursor: pointer;\n",
              "      display: none;\n",
              "      fill: #1967D2;\n",
              "      height: 32px;\n",
              "      padding: 0 0 0 0;\n",
              "      width: 32px;\n",
              "    }\n",
              "\n",
              "    .colab-df-convert:hover {\n",
              "      background-color: #E2EBFA;\n",
              "      box-shadow: 0px 1px 2px rgba(60, 64, 67, 0.3), 0px 1px 3px 1px rgba(60, 64, 67, 0.15);\n",
              "      fill: #174EA6;\n",
              "    }\n",
              "\n",
              "    [theme=dark] .colab-df-convert {\n",
              "      background-color: #3B4455;\n",
              "      fill: #D2E3FC;\n",
              "    }\n",
              "\n",
              "    [theme=dark] .colab-df-convert:hover {\n",
              "      background-color: #434B5C;\n",
              "      box-shadow: 0px 1px 3px 1px rgba(0, 0, 0, 0.15);\n",
              "      filter: drop-shadow(0px 1px 2px rgba(0, 0, 0, 0.3));\n",
              "      fill: #FFFFFF;\n",
              "    }\n",
              "  </style>\n",
              "\n",
              "      <script>\n",
              "        const buttonEl =\n",
              "          document.querySelector('#df-80ccde98-bb29-409a-b5f0-367eb380e492 button.colab-df-convert');\n",
              "        buttonEl.style.display =\n",
              "          google.colab.kernel.accessAllowed ? 'block' : 'none';\n",
              "\n",
              "        async function convertToInteractive(key) {\n",
              "          const element = document.querySelector('#df-80ccde98-bb29-409a-b5f0-367eb380e492');\n",
              "          const dataTable =\n",
              "            await google.colab.kernel.invokeFunction('convertToInteractive',\n",
              "                                                     [key], {});\n",
              "          if (!dataTable) return;\n",
              "\n",
              "          const docLinkHtml = 'Like what you see? Visit the ' +\n",
              "            '<a target=\"_blank\" href=https://colab.research.google.com/notebooks/data_table.ipynb>data table notebook</a>'\n",
              "            + ' to learn more about interactive tables.';\n",
              "          element.innerHTML = '';\n",
              "          dataTable['output_type'] = 'display_data';\n",
              "          await google.colab.output.renderOutput(dataTable, element);\n",
              "          const docLink = document.createElement('div');\n",
              "          docLink.innerHTML = docLinkHtml;\n",
              "          element.appendChild(docLink);\n",
              "        }\n",
              "      </script>\n",
              "    </div>\n",
              "  </div>\n",
              "  "
            ]
          },
          "metadata": {},
          "execution_count": 33
        }
      ]
    },
    {
      "cell_type": "code",
      "source": [
        "def change_string(team_away):\n",
        "    if team_away == \"New York Jets\":\n",
        "        return 1 \n",
        "    else:\n",
        "        return 0\n",
        "    \n",
        "NFL_guru_jetsbills_df[\"team_away\"]= NFL_guru_jetsbills_df[\"team_away\"].apply(change_string)\n",
        "NFL_guru_jetsbills_df.head()"
      ],
      "metadata": {
        "colab": {
          "base_uri": "https://localhost:8080/",
          "height": 404
        },
        "id": "xI0G1EYyV0wW",
        "outputId": "7eadc2f2-6d2b-4705-fa3e-44b9e4a82c13"
      },
      "execution_count": 34,
      "outputs": [
        {
          "output_type": "execute_result",
          "data": {
            "text/plain": [
              "   team_home  score_home  score_away  team_away  spread_favorite  \\\n",
              "0          1          46          31          1             -3.0   \n",
              "1          0          12          14          0             -6.0   \n",
              "2          1          20          10          1              0.0   \n",
              "3          0          24          31          0             -4.0   \n",
              "4          1          31           0          1             -4.0   \n",
              "\n",
              "                stadium  weather_temperature  weather_wind_mph weather_detail  \\\n",
              "0  Ralph Wilson Stadium                 50.0               9.0              0   \n",
              "1        Giants Stadium                 52.0              10.0              0   \n",
              "2  Ralph Wilson Stadium                 68.0              13.0              0   \n",
              "3        Giants Stadium                 44.0              12.0              0   \n",
              "4  Ralph Wilson Stadium                 66.0               8.0              0   \n",
              "\n",
              "   home_win  \n",
              "0         2  \n",
              "1         1  \n",
              "2         2  \n",
              "3         1  \n",
              "4         2  "
            ],
            "text/html": [
              "\n",
              "  <div id=\"df-6095b16c-6142-438a-873b-3864994bbe82\">\n",
              "    <div class=\"colab-df-container\">\n",
              "      <div>\n",
              "<style scoped>\n",
              "    .dataframe tbody tr th:only-of-type {\n",
              "        vertical-align: middle;\n",
              "    }\n",
              "\n",
              "    .dataframe tbody tr th {\n",
              "        vertical-align: top;\n",
              "    }\n",
              "\n",
              "    .dataframe thead th {\n",
              "        text-align: right;\n",
              "    }\n",
              "</style>\n",
              "<table border=\"1\" class=\"dataframe\">\n",
              "  <thead>\n",
              "    <tr style=\"text-align: right;\">\n",
              "      <th></th>\n",
              "      <th>team_home</th>\n",
              "      <th>score_home</th>\n",
              "      <th>score_away</th>\n",
              "      <th>team_away</th>\n",
              "      <th>spread_favorite</th>\n",
              "      <th>stadium</th>\n",
              "      <th>weather_temperature</th>\n",
              "      <th>weather_wind_mph</th>\n",
              "      <th>weather_detail</th>\n",
              "      <th>home_win</th>\n",
              "    </tr>\n",
              "  </thead>\n",
              "  <tbody>\n",
              "    <tr>\n",
              "      <th>0</th>\n",
              "      <td>1</td>\n",
              "      <td>46</td>\n",
              "      <td>31</td>\n",
              "      <td>1</td>\n",
              "      <td>-3.0</td>\n",
              "      <td>Ralph Wilson Stadium</td>\n",
              "      <td>50.0</td>\n",
              "      <td>9.0</td>\n",
              "      <td>0</td>\n",
              "      <td>2</td>\n",
              "    </tr>\n",
              "    <tr>\n",
              "      <th>1</th>\n",
              "      <td>0</td>\n",
              "      <td>12</td>\n",
              "      <td>14</td>\n",
              "      <td>0</td>\n",
              "      <td>-6.0</td>\n",
              "      <td>Giants Stadium</td>\n",
              "      <td>52.0</td>\n",
              "      <td>10.0</td>\n",
              "      <td>0</td>\n",
              "      <td>1</td>\n",
              "    </tr>\n",
              "    <tr>\n",
              "      <th>2</th>\n",
              "      <td>1</td>\n",
              "      <td>20</td>\n",
              "      <td>10</td>\n",
              "      <td>1</td>\n",
              "      <td>0.0</td>\n",
              "      <td>Ralph Wilson Stadium</td>\n",
              "      <td>68.0</td>\n",
              "      <td>13.0</td>\n",
              "      <td>0</td>\n",
              "      <td>2</td>\n",
              "    </tr>\n",
              "    <tr>\n",
              "      <th>3</th>\n",
              "      <td>0</td>\n",
              "      <td>24</td>\n",
              "      <td>31</td>\n",
              "      <td>0</td>\n",
              "      <td>-4.0</td>\n",
              "      <td>Giants Stadium</td>\n",
              "      <td>44.0</td>\n",
              "      <td>12.0</td>\n",
              "      <td>0</td>\n",
              "      <td>1</td>\n",
              "    </tr>\n",
              "    <tr>\n",
              "      <th>4</th>\n",
              "      <td>1</td>\n",
              "      <td>31</td>\n",
              "      <td>0</td>\n",
              "      <td>1</td>\n",
              "      <td>-4.0</td>\n",
              "      <td>Ralph Wilson Stadium</td>\n",
              "      <td>66.0</td>\n",
              "      <td>8.0</td>\n",
              "      <td>0</td>\n",
              "      <td>2</td>\n",
              "    </tr>\n",
              "  </tbody>\n",
              "</table>\n",
              "</div>\n",
              "      <button class=\"colab-df-convert\" onclick=\"convertToInteractive('df-6095b16c-6142-438a-873b-3864994bbe82')\"\n",
              "              title=\"Convert this dataframe to an interactive table.\"\n",
              "              style=\"display:none;\">\n",
              "        \n",
              "  <svg xmlns=\"http://www.w3.org/2000/svg\" height=\"24px\"viewBox=\"0 0 24 24\"\n",
              "       width=\"24px\">\n",
              "    <path d=\"M0 0h24v24H0V0z\" fill=\"none\"/>\n",
              "    <path d=\"M18.56 5.44l.94 2.06.94-2.06 2.06-.94-2.06-.94-.94-2.06-.94 2.06-2.06.94zm-11 1L8.5 8.5l.94-2.06 2.06-.94-2.06-.94L8.5 2.5l-.94 2.06-2.06.94zm10 10l.94 2.06.94-2.06 2.06-.94-2.06-.94-.94-2.06-.94 2.06-2.06.94z\"/><path d=\"M17.41 7.96l-1.37-1.37c-.4-.4-.92-.59-1.43-.59-.52 0-1.04.2-1.43.59L10.3 9.45l-7.72 7.72c-.78.78-.78 2.05 0 2.83L4 21.41c.39.39.9.59 1.41.59.51 0 1.02-.2 1.41-.59l7.78-7.78 2.81-2.81c.8-.78.8-2.07 0-2.86zM5.41 20L4 18.59l7.72-7.72 1.47 1.35L5.41 20z\"/>\n",
              "  </svg>\n",
              "      </button>\n",
              "      \n",
              "  <style>\n",
              "    .colab-df-container {\n",
              "      display:flex;\n",
              "      flex-wrap:wrap;\n",
              "      gap: 12px;\n",
              "    }\n",
              "\n",
              "    .colab-df-convert {\n",
              "      background-color: #E8F0FE;\n",
              "      border: none;\n",
              "      border-radius: 50%;\n",
              "      cursor: pointer;\n",
              "      display: none;\n",
              "      fill: #1967D2;\n",
              "      height: 32px;\n",
              "      padding: 0 0 0 0;\n",
              "      width: 32px;\n",
              "    }\n",
              "\n",
              "    .colab-df-convert:hover {\n",
              "      background-color: #E2EBFA;\n",
              "      box-shadow: 0px 1px 2px rgba(60, 64, 67, 0.3), 0px 1px 3px 1px rgba(60, 64, 67, 0.15);\n",
              "      fill: #174EA6;\n",
              "    }\n",
              "\n",
              "    [theme=dark] .colab-df-convert {\n",
              "      background-color: #3B4455;\n",
              "      fill: #D2E3FC;\n",
              "    }\n",
              "\n",
              "    [theme=dark] .colab-df-convert:hover {\n",
              "      background-color: #434B5C;\n",
              "      box-shadow: 0px 1px 3px 1px rgba(0, 0, 0, 0.15);\n",
              "      filter: drop-shadow(0px 1px 2px rgba(0, 0, 0, 0.3));\n",
              "      fill: #FFFFFF;\n",
              "    }\n",
              "  </style>\n",
              "\n",
              "      <script>\n",
              "        const buttonEl =\n",
              "          document.querySelector('#df-6095b16c-6142-438a-873b-3864994bbe82 button.colab-df-convert');\n",
              "        buttonEl.style.display =\n",
              "          google.colab.kernel.accessAllowed ? 'block' : 'none';\n",
              "\n",
              "        async function convertToInteractive(key) {\n",
              "          const element = document.querySelector('#df-6095b16c-6142-438a-873b-3864994bbe82');\n",
              "          const dataTable =\n",
              "            await google.colab.kernel.invokeFunction('convertToInteractive',\n",
              "                                                     [key], {});\n",
              "          if (!dataTable) return;\n",
              "\n",
              "          const docLinkHtml = 'Like what you see? Visit the ' +\n",
              "            '<a target=\"_blank\" href=https://colab.research.google.com/notebooks/data_table.ipynb>data table notebook</a>'\n",
              "            + ' to learn more about interactive tables.';\n",
              "          element.innerHTML = '';\n",
              "          dataTable['output_type'] = 'display_data';\n",
              "          await google.colab.output.renderOutput(dataTable, element);\n",
              "          const docLink = document.createElement('div');\n",
              "          docLink.innerHTML = docLinkHtml;\n",
              "          element.appendChild(docLink);\n",
              "        }\n",
              "      </script>\n",
              "    </div>\n",
              "  </div>\n",
              "  "
            ]
          },
          "metadata": {},
          "execution_count": 34
        }
      ]
    },
    {
      "cell_type": "code",
      "source": [
        "def change_string(stadium):\n",
        "    if stadium == \"Ralph Wilson Stadium\":\n",
        "        return 2 \n",
        "    else:\n",
        "        return 3\n",
        "    \n",
        "NFL_guru_jetsbills_df[\"stadium\"]= NFL_guru_jetsbills_df[\"stadium\"].apply(change_string)\n",
        "NFL_guru_jetsbills_df.head()"
      ],
      "metadata": {
        "colab": {
          "base_uri": "https://localhost:8080/",
          "height": 268
        },
        "id": "90yCNhIm4F8j",
        "outputId": "46717f8f-3856-4a50-d935-b1c659d82c0a"
      },
      "execution_count": 35,
      "outputs": [
        {
          "output_type": "execute_result",
          "data": {
            "text/plain": [
              "   team_home  score_home  score_away  team_away  spread_favorite  stadium  \\\n",
              "0          1          46          31          1             -3.0        2   \n",
              "1          0          12          14          0             -6.0        3   \n",
              "2          1          20          10          1              0.0        2   \n",
              "3          0          24          31          0             -4.0        3   \n",
              "4          1          31           0          1             -4.0        2   \n",
              "\n",
              "   weather_temperature  weather_wind_mph weather_detail  home_win  \n",
              "0                 50.0               9.0              0         2  \n",
              "1                 52.0              10.0              0         1  \n",
              "2                 68.0              13.0              0         2  \n",
              "3                 44.0              12.0              0         1  \n",
              "4                 66.0               8.0              0         2  "
            ],
            "text/html": [
              "\n",
              "  <div id=\"df-a96edf89-d15f-47e9-bc57-6d26dea4f555\">\n",
              "    <div class=\"colab-df-container\">\n",
              "      <div>\n",
              "<style scoped>\n",
              "    .dataframe tbody tr th:only-of-type {\n",
              "        vertical-align: middle;\n",
              "    }\n",
              "\n",
              "    .dataframe tbody tr th {\n",
              "        vertical-align: top;\n",
              "    }\n",
              "\n",
              "    .dataframe thead th {\n",
              "        text-align: right;\n",
              "    }\n",
              "</style>\n",
              "<table border=\"1\" class=\"dataframe\">\n",
              "  <thead>\n",
              "    <tr style=\"text-align: right;\">\n",
              "      <th></th>\n",
              "      <th>team_home</th>\n",
              "      <th>score_home</th>\n",
              "      <th>score_away</th>\n",
              "      <th>team_away</th>\n",
              "      <th>spread_favorite</th>\n",
              "      <th>stadium</th>\n",
              "      <th>weather_temperature</th>\n",
              "      <th>weather_wind_mph</th>\n",
              "      <th>weather_detail</th>\n",
              "      <th>home_win</th>\n",
              "    </tr>\n",
              "  </thead>\n",
              "  <tbody>\n",
              "    <tr>\n",
              "      <th>0</th>\n",
              "      <td>1</td>\n",
              "      <td>46</td>\n",
              "      <td>31</td>\n",
              "      <td>1</td>\n",
              "      <td>-3.0</td>\n",
              "      <td>2</td>\n",
              "      <td>50.0</td>\n",
              "      <td>9.0</td>\n",
              "      <td>0</td>\n",
              "      <td>2</td>\n",
              "    </tr>\n",
              "    <tr>\n",
              "      <th>1</th>\n",
              "      <td>0</td>\n",
              "      <td>12</td>\n",
              "      <td>14</td>\n",
              "      <td>0</td>\n",
              "      <td>-6.0</td>\n",
              "      <td>3</td>\n",
              "      <td>52.0</td>\n",
              "      <td>10.0</td>\n",
              "      <td>0</td>\n",
              "      <td>1</td>\n",
              "    </tr>\n",
              "    <tr>\n",
              "      <th>2</th>\n",
              "      <td>1</td>\n",
              "      <td>20</td>\n",
              "      <td>10</td>\n",
              "      <td>1</td>\n",
              "      <td>0.0</td>\n",
              "      <td>2</td>\n",
              "      <td>68.0</td>\n",
              "      <td>13.0</td>\n",
              "      <td>0</td>\n",
              "      <td>2</td>\n",
              "    </tr>\n",
              "    <tr>\n",
              "      <th>3</th>\n",
              "      <td>0</td>\n",
              "      <td>24</td>\n",
              "      <td>31</td>\n",
              "      <td>0</td>\n",
              "      <td>-4.0</td>\n",
              "      <td>3</td>\n",
              "      <td>44.0</td>\n",
              "      <td>12.0</td>\n",
              "      <td>0</td>\n",
              "      <td>1</td>\n",
              "    </tr>\n",
              "    <tr>\n",
              "      <th>4</th>\n",
              "      <td>1</td>\n",
              "      <td>31</td>\n",
              "      <td>0</td>\n",
              "      <td>1</td>\n",
              "      <td>-4.0</td>\n",
              "      <td>2</td>\n",
              "      <td>66.0</td>\n",
              "      <td>8.0</td>\n",
              "      <td>0</td>\n",
              "      <td>2</td>\n",
              "    </tr>\n",
              "  </tbody>\n",
              "</table>\n",
              "</div>\n",
              "      <button class=\"colab-df-convert\" onclick=\"convertToInteractive('df-a96edf89-d15f-47e9-bc57-6d26dea4f555')\"\n",
              "              title=\"Convert this dataframe to an interactive table.\"\n",
              "              style=\"display:none;\">\n",
              "        \n",
              "  <svg xmlns=\"http://www.w3.org/2000/svg\" height=\"24px\"viewBox=\"0 0 24 24\"\n",
              "       width=\"24px\">\n",
              "    <path d=\"M0 0h24v24H0V0z\" fill=\"none\"/>\n",
              "    <path d=\"M18.56 5.44l.94 2.06.94-2.06 2.06-.94-2.06-.94-.94-2.06-.94 2.06-2.06.94zm-11 1L8.5 8.5l.94-2.06 2.06-.94-2.06-.94L8.5 2.5l-.94 2.06-2.06.94zm10 10l.94 2.06.94-2.06 2.06-.94-2.06-.94-.94-2.06-.94 2.06-2.06.94z\"/><path d=\"M17.41 7.96l-1.37-1.37c-.4-.4-.92-.59-1.43-.59-.52 0-1.04.2-1.43.59L10.3 9.45l-7.72 7.72c-.78.78-.78 2.05 0 2.83L4 21.41c.39.39.9.59 1.41.59.51 0 1.02-.2 1.41-.59l7.78-7.78 2.81-2.81c.8-.78.8-2.07 0-2.86zM5.41 20L4 18.59l7.72-7.72 1.47 1.35L5.41 20z\"/>\n",
              "  </svg>\n",
              "      </button>\n",
              "      \n",
              "  <style>\n",
              "    .colab-df-container {\n",
              "      display:flex;\n",
              "      flex-wrap:wrap;\n",
              "      gap: 12px;\n",
              "    }\n",
              "\n",
              "    .colab-df-convert {\n",
              "      background-color: #E8F0FE;\n",
              "      border: none;\n",
              "      border-radius: 50%;\n",
              "      cursor: pointer;\n",
              "      display: none;\n",
              "      fill: #1967D2;\n",
              "      height: 32px;\n",
              "      padding: 0 0 0 0;\n",
              "      width: 32px;\n",
              "    }\n",
              "\n",
              "    .colab-df-convert:hover {\n",
              "      background-color: #E2EBFA;\n",
              "      box-shadow: 0px 1px 2px rgba(60, 64, 67, 0.3), 0px 1px 3px 1px rgba(60, 64, 67, 0.15);\n",
              "      fill: #174EA6;\n",
              "    }\n",
              "\n",
              "    [theme=dark] .colab-df-convert {\n",
              "      background-color: #3B4455;\n",
              "      fill: #D2E3FC;\n",
              "    }\n",
              "\n",
              "    [theme=dark] .colab-df-convert:hover {\n",
              "      background-color: #434B5C;\n",
              "      box-shadow: 0px 1px 3px 1px rgba(0, 0, 0, 0.15);\n",
              "      filter: drop-shadow(0px 1px 2px rgba(0, 0, 0, 0.3));\n",
              "      fill: #FFFFFF;\n",
              "    }\n",
              "  </style>\n",
              "\n",
              "      <script>\n",
              "        const buttonEl =\n",
              "          document.querySelector('#df-a96edf89-d15f-47e9-bc57-6d26dea4f555 button.colab-df-convert');\n",
              "        buttonEl.style.display =\n",
              "          google.colab.kernel.accessAllowed ? 'block' : 'none';\n",
              "\n",
              "        async function convertToInteractive(key) {\n",
              "          const element = document.querySelector('#df-a96edf89-d15f-47e9-bc57-6d26dea4f555');\n",
              "          const dataTable =\n",
              "            await google.colab.kernel.invokeFunction('convertToInteractive',\n",
              "                                                     [key], {});\n",
              "          if (!dataTable) return;\n",
              "\n",
              "          const docLinkHtml = 'Like what you see? Visit the ' +\n",
              "            '<a target=\"_blank\" href=https://colab.research.google.com/notebooks/data_table.ipynb>data table notebook</a>'\n",
              "            + ' to learn more about interactive tables.';\n",
              "          element.innerHTML = '';\n",
              "          dataTable['output_type'] = 'display_data';\n",
              "          await google.colab.output.renderOutput(dataTable, element);\n",
              "          const docLink = document.createElement('div');\n",
              "          docLink.innerHTML = docLinkHtml;\n",
              "          element.appendChild(docLink);\n",
              "        }\n",
              "      </script>\n",
              "    </div>\n",
              "  </div>\n",
              "  "
            ]
          },
          "metadata": {},
          "execution_count": 35
        }
      ]
    },
    {
      "cell_type": "markdown",
      "source": [
        "for loop to go through the teams- completing the procress automatically rather than going through each match indiv."
      ],
      "metadata": {
        "id": "Q461M9gP6oNB"
      }
    },
    {
      "cell_type": "code",
      "source": [
        "results = []\n",
        "home_teams = NFL_clean.select('team_home').distinct()\n",
        "home_team_list = home_teams.rdd.map(lambda x: x[0]).collect()\n",
        "visiting_teams = NFL_clean.select('team_away').distinct()\n",
        "visiting_team_list = visiting_teams.rdd.map(lambda x: x[0]).collect()\n",
        "teams_seen = []"
      ],
      "metadata": {
        "id": "i1bPfdO26YsZ"
      },
      "execution_count": 36,
      "outputs": []
    },
    {
      "cell_type": "code",
      "source": [
        "import pandas as pd \n",
        "save = []\n",
        "save = pd.DataFrame()\n",
        "check_df = pd.DataFrame()"
      ],
      "metadata": {
        "id": "aqujkVAW6Yj9"
      },
      "execution_count": 38,
      "outputs": []
    },
    {
      "cell_type": "code",
      "source": [
        "for home_team in home_team_list:\n",
        "  for visiting_team in visiting_team_list:\n",
        "    if home_team == visiting_team:\n",
        "      continue\n",
        "    else:\n",
        "\n",
        "      # Subset your dataframe\n",
        "      temp_df = NFL_clean.filter(((NFL_clean.team_home == home_team) & (NFL_clean.team_away == visiting_team)) | ((NFL_clean.team_home == visiting_team) & (NFL_clean.team_away == home_team)))\n",
        "        # Dump it to a pandas df\n",
        "      temp_df_panda = temp_df.toPandas()\n",
        "      temp_df_panda = temp_df_panda.drop(['team_home', 'team_away'], axis=1)\n",
        "      check_df = temp_df_panda\n",
        "      if len(temp_df_panda) > 10:     \n",
        "        # Get dummies\n",
        "        stadium_encoded = pd.get_dummies(temp_df_panda, columns=['stadium'])\n",
        "        save = stadium_encoded\n",
        "        stadium_encoded.head()\n",
        "        X = stadium_encoded.drop(columns=['home_win'])\n",
        "        y = stadium_encoded['home_win']\n",
        "\n",
        "        # Split into X, Y and training/test sets\n",
        "\n",
        "        X_train, X_test, y_train, y_test = train_test_split(X, y, random_state=1 )#,stratify = y\n",
        "\n",
        "        # Fit model\n",
        "        ros = RandomOverSampler(random_state=1)\n",
        "        X_resampled, y_resampled = ros.fit_resample(X_train, y_train)\n",
        "        model = LogisticRegression(solver='lbfgs', random_state=1)\n",
        "        model.fit(X_resampled, y_resampled)\n",
        "\n",
        "        # Predict\n",
        "        y_pred = model.predict(X_test)\n",
        "        accuracy = balanced_accuracy_score(y_test, y_pred)\n",
        "        matrix = confusion_matrix(y_test, y_pred)\n",
        "\n",
        "        #results = pd.DataFrame()\n",
        "        # Put your results in a dataframe\n",
        "\n",
        "        results['Team_1'] = home_team\n",
        "        results['Team_2'] = visiting_team\n",
        "        results['Accuracy'] = accuracy\n",
        "\n",
        "        # Store results\n",
        "        #results.append()\n",
        "        all_model_results = pd.concat([results])"
      ],
      "metadata": {
        "id": "_aWVASgGooal"
      },
      "execution_count": null,
      "outputs": []
    },
    {
      "cell_type": "code",
      "source": [
        "results = []\n",
        "\n",
        "home_team_list = df['team_home'].unique()\n",
        "visiting_team_list = df['team_away'].unique()\n",
        "\n",
        "teams_seen = []\n",
        "\n",
        "for home_team, visiting_team in zip(home_team_list, visiting_team_list):\n",
        "\n",
        "  # Subset your dataframe\n",
        "  temp_df = NFL_guru_current.filter(((NFL_guru_current.team_home == home_team) & (NFL_guru_current.team_away == visiting_team)) | ((NFL_guru_current.team_home == visiting_team) & (NFL_guru_current.team_away == home_team)))\n",
        "\n",
        "  # Dump it to a pandas df\n",
        "\n",
        "  # Get dummies\n",
        "\n",
        "  # Split into X, Y and training/test sets\n",
        "\n",
        "  # Fit model\n",
        "\n",
        "  # Predict\n",
        "  res = pd.Dataframe()\n",
        "\n",
        "  # Put your results in a dataframe\n",
        "  res['Home Team'] = home_team\n",
        "  res['Visiting Team'] = visiting_team\n",
        "\n",
        "  # Store results\n",
        "  results.append()\n",
        "\n",
        "all_model_results = pd.concat(results)"
      ],
      "metadata": {
        "id": "Au2dJgysJ6LY",
        "colab": {
          "base_uri": "https://localhost:8080/",
          "height": 232
        },
        "outputId": "33a33716-5c51-421a-fc58-a3e80d368911"
      },
      "execution_count": 40,
      "outputs": [
        {
          "output_type": "error",
          "ename": "NameError",
          "evalue": "ignored",
          "traceback": [
            "\u001b[0;31m---------------------------------------------------------------------------\u001b[0m",
            "\u001b[0;31mNameError\u001b[0m                                 Traceback (most recent call last)",
            "\u001b[0;32m<ipython-input-40-819f52bb565d>\u001b[0m in \u001b[0;36m<module>\u001b[0;34m\u001b[0m\n\u001b[1;32m      1\u001b[0m \u001b[0mresults\u001b[0m \u001b[0;34m=\u001b[0m \u001b[0;34m[\u001b[0m\u001b[0;34m]\u001b[0m\u001b[0;34m\u001b[0m\u001b[0;34m\u001b[0m\u001b[0m\n\u001b[1;32m      2\u001b[0m \u001b[0;34m\u001b[0m\u001b[0m\n\u001b[0;32m----> 3\u001b[0;31m \u001b[0mhome_team_list\u001b[0m \u001b[0;34m=\u001b[0m \u001b[0mdf\u001b[0m\u001b[0;34m[\u001b[0m\u001b[0;34m'team_home'\u001b[0m\u001b[0;34m]\u001b[0m\u001b[0;34m.\u001b[0m\u001b[0munique\u001b[0m\u001b[0;34m(\u001b[0m\u001b[0;34m)\u001b[0m\u001b[0;34m\u001b[0m\u001b[0;34m\u001b[0m\u001b[0m\n\u001b[0m\u001b[1;32m      4\u001b[0m \u001b[0mvisiting_team_list\u001b[0m \u001b[0;34m=\u001b[0m \u001b[0mdf\u001b[0m\u001b[0;34m[\u001b[0m\u001b[0;34m'team_away'\u001b[0m\u001b[0;34m]\u001b[0m\u001b[0;34m.\u001b[0m\u001b[0munique\u001b[0m\u001b[0;34m(\u001b[0m\u001b[0;34m)\u001b[0m\u001b[0;34m\u001b[0m\u001b[0;34m\u001b[0m\u001b[0m\n\u001b[1;32m      5\u001b[0m \u001b[0;34m\u001b[0m\u001b[0m\n",
            "\u001b[0;31mNameError\u001b[0m: name 'df' is not defined"
          ]
        }
      ]
    },
    {
      "cell_type": "code",
      "source": [],
      "metadata": {
        "id": "nJloMSk9PMN9"
      },
      "execution_count": null,
      "outputs": []
    },
    {
      "cell_type": "code",
      "source": [
        "import numpy as np\n",
        "import pandas as pd\n",
        "from pathlib import Path\n",
        "from collections import Counter"
      ],
      "metadata": {
        "id": "QqwI7_tXDjgJ"
      },
      "execution_count": 41,
      "outputs": []
    },
    {
      "cell_type": "code",
      "source": [
        "from sklearn.metrics import balanced_accuracy_score\n",
        "from sklearn.metrics import confusion_matrix\n",
        "from imblearn.metrics import classification_report_imbalanced"
      ],
      "metadata": {
        "id": "LeuSfaHVFXib"
      },
      "execution_count": 42,
      "outputs": []
    },
    {
      "cell_type": "code",
      "source": [
        "NFL_jetsbills_encoded = pd.get_dummies(NFL_guru_jetsbills_df, columns=['stadium'])\n",
        "NFL_jetsbills_encoded.shape"
      ],
      "metadata": {
        "colab": {
          "base_uri": "https://localhost:8080/"
        },
        "id": "_iqSeGQwLgZl",
        "outputId": "39530c96-6994-444c-9367-20d61d1a7463"
      },
      "execution_count": 43,
      "outputs": [
        {
          "output_type": "execute_result",
          "data": {
            "text/plain": [
              "(79, 11)"
            ]
          },
          "metadata": {},
          "execution_count": 43
        }
      ]
    },
    {
      "cell_type": "code",
      "source": [
        "#make sure when running the x and y ALL nas need to be removed \n",
        "X = pd.get_dummies(NFL_guru_jetsbills_df.drop(columns=\"home_win\"))\n",
        "y = NFL_guru_jetsbills_df[\"home_win\"]"
      ],
      "metadata": {
        "id": "kUzKl0lmFqiP"
      },
      "execution_count": 44,
      "outputs": []
    },
    {
      "cell_type": "code",
      "source": [
        "NFL_jetsbills_encoded = NFL_jetsbills_encoded.dropna()"
      ],
      "metadata": {
        "id": "EePK73WdLXUG"
      },
      "execution_count": 45,
      "outputs": []
    },
    {
      "cell_type": "code",
      "source": [
        "y.value_counts()"
      ],
      "metadata": {
        "colab": {
          "base_uri": "https://localhost:8080/"
        },
        "id": "0LDAEVgN8WH1",
        "outputId": "e1083458-94b3-4ee3-9252-8b937cad5526"
      },
      "execution_count": 29,
      "outputs": [
        {
          "output_type": "execute_result",
          "data": {
            "text/plain": [
              "2    42\n",
              "1    37\n",
              "Name: home_win, dtype: int64"
            ]
          },
          "metadata": {},
          "execution_count": 29
        }
      ]
    },
    {
      "cell_type": "code",
      "source": [
        "from sklearn.model_selection import train_test_split\n",
        "X_train, X_test, y_train, y_test = train_test_split(X, y, random_state = 1)\n",
        "X_train.shape"
      ],
      "metadata": {
        "colab": {
          "base_uri": "https://localhost:8080/"
        },
        "id": "pJmq73S581Qc",
        "outputId": "0122a4d3-6435-47fa-fb9d-596b626aa949"
      },
      "execution_count": 46,
      "outputs": [
        {
          "output_type": "execute_result",
          "data": {
            "text/plain": [
              "(59, 10)"
            ]
          },
          "metadata": {},
          "execution_count": 46
        }
      ]
    },
    {
      "cell_type": "code",
      "source": [
        "from imblearn.ensemble import BalancedRandomForestClassifier\n",
        "brfc_model = BalancedRandomForestClassifier(n_estimators=100, random_state=1)\n",
        "brfc_model.fit(X_train, y_train)"
      ],
      "metadata": {
        "colab": {
          "base_uri": "https://localhost:8080/"
        },
        "id": "X3K51-Jj8bQb",
        "outputId": "b7cd362d-0dfd-4ffd-8acb-2c424824e053"
      },
      "execution_count": 47,
      "outputs": [
        {
          "output_type": "execute_result",
          "data": {
            "text/plain": [
              "BalancedRandomForestClassifier(random_state=1)"
            ]
          },
          "metadata": {},
          "execution_count": 47
        }
      ]
    },
    {
      "cell_type": "code",
      "source": [
        "NFL_jetsbills_encoded = pd.get_dummies(NFL_guru_jetsbills_df, columns=['stadium'])\n",
        "NFL_jetsbills_encoded.shape"
      ],
      "metadata": {
        "colab": {
          "base_uri": "https://localhost:8080/"
        },
        "id": "eSp33amazXiJ",
        "outputId": "0e953db1-0a64-42b7-9ab3-d8fe22058ac0"
      },
      "execution_count": 48,
      "outputs": [
        {
          "output_type": "execute_result",
          "data": {
            "text/plain": [
              "(79, 11)"
            ]
          },
          "metadata": {},
          "execution_count": 48
        }
      ]
    },
    {
      "cell_type": "code",
      "source": [
        "NFL_jetsbills_encoded = NFL_jetsbills_encoded.dropna()"
      ],
      "metadata": {
        "id": "90BBoSukzeFa"
      },
      "execution_count": 49,
      "outputs": []
    },
    {
      "cell_type": "code",
      "source": [
        "NFL_jetsbills_encoded.shape"
      ],
      "metadata": {
        "colab": {
          "base_uri": "https://localhost:8080/"
        },
        "id": "S8Emp2NwzhbV",
        "outputId": "faa765d7-a159-4f3c-c0fb-fa3cfecd8c62"
      },
      "execution_count": 50,
      "outputs": [
        {
          "output_type": "execute_result",
          "data": {
            "text/plain": [
              "(79, 11)"
            ]
          },
          "metadata": {},
          "execution_count": 50
        }
      ]
    },
    {
      "cell_type": "code",
      "source": [
        "#interaction between the 2 teams- keeping it seperate from the entire DB cleaned \n",
        "X = NFL_jetsbills_encoded.drop(['home_win'], axis=1)\n",
        "y = NFL_jetsbills_encoded['home_win']\n"
      ],
      "metadata": {
        "id": "Mz1afKORzjcx"
      },
      "execution_count": 51,
      "outputs": []
    },
    {
      "cell_type": "code",
      "source": [
        "from sklearn.model_selection import train_test_split\n",
        "X_train, X_test, y_train, y_test = train_test_split(X, y, random_state=1, stratify = y)\n"
      ],
      "metadata": {
        "id": "jVMXM8xNzlvf"
      },
      "execution_count": 52,
      "outputs": []
    },
    {
      "cell_type": "markdown",
      "source": [
        "Random Sam balanced accuracy= 0."
      ],
      "metadata": {
        "id": "oLzx9Ed86HsW"
      }
    },
    {
      "cell_type": "code",
      "source": [
        "# Resample the training data with the RandomOversampler\n",
        "\n",
        "from imblearn.over_sampling import RandomOverSampler\n",
        "ros = RandomOverSampler(random_state=1)\n",
        "X_resampled, y_resampled = ros.fit_resample(X_train, y_train)\n",
        "\n",
        "Counter(y_resampled)"
      ],
      "metadata": {
        "colab": {
          "base_uri": "https://localhost:8080/"
        },
        "id": "qCEZDyq4zzeb",
        "outputId": "dcc32439-f512-4772-e713-6d544815b4c4"
      },
      "execution_count": 53,
      "outputs": [
        {
          "output_type": "execute_result",
          "data": {
            "text/plain": [
              "Counter({1: 31, 2: 31})"
            ]
          },
          "metadata": {},
          "execution_count": 53
        }
      ]
    },
    {
      "cell_type": "code",
      "source": [
        "from sklearn.linear_model import LogisticRegression\n",
        "#convert the team names from strings to float- need to do this earlier with ALL team names- preventative\n",
        "\n",
        "model = LogisticRegression(solver='lbfgs', random_state=1)\n",
        "model.fit(X_resampled, y_resampled)"
      ],
      "metadata": {
        "colab": {
          "base_uri": "https://localhost:8080/"
        },
        "id": "Z2IFQ1dnz03_",
        "outputId": "8ccaeab5-ae08-4c55-fe1b-7124dac4d309"
      },
      "execution_count": 54,
      "outputs": [
        {
          "output_type": "execute_result",
          "data": {
            "text/plain": [
              "LogisticRegression(random_state=1)"
            ]
          },
          "metadata": {},
          "execution_count": 54
        }
      ]
    },
    {
      "cell_type": "code",
      "source": [
        "y_pred = model.predict(X_test)\n",
        "balanced_accuracy_score(y_test, y_pred)"
      ],
      "metadata": {
        "colab": {
          "base_uri": "https://localhost:8080/"
        },
        "id": "AW3QFBRA4vtI",
        "outputId": "b6d75808-e04a-4c5d-92f3-dd1e652e43db"
      },
      "execution_count": 55,
      "outputs": [
        {
          "output_type": "execute_result",
          "data": {
            "text/plain": [
              "0.9545454545454546"
            ]
          },
          "metadata": {},
          "execution_count": 55
        }
      ]
    },
    {
      "cell_type": "code",
      "source": [
        "confusion_matrix(y_test, y_pred)"
      ],
      "metadata": {
        "colab": {
          "base_uri": "https://localhost:8080/"
        },
        "id": "52Aoeliy42sh",
        "outputId": "c822e4ef-5819-458e-fbf7-f350e4ceffbb"
      },
      "execution_count": 56,
      "outputs": [
        {
          "output_type": "execute_result",
          "data": {
            "text/plain": [
              "array([[ 9,  0],\n",
              "       [ 1, 10]])"
            ]
          },
          "metadata": {},
          "execution_count": 56
        }
      ]
    },
    {
      "cell_type": "code",
      "source": [
        "print(classification_report_imbalanced(y_test, y_pred))"
      ],
      "metadata": {
        "colab": {
          "base_uri": "https://localhost:8080/"
        },
        "id": "4F4J-Ivl48hh",
        "outputId": "a64396e1-2d25-4d81-90ba-1793062320a1"
      },
      "execution_count": 57,
      "outputs": [
        {
          "output_type": "stream",
          "name": "stdout",
          "text": [
            "                   pre       rec       spe        f1       geo       iba       sup\n",
            "\n",
            "          1       0.90      1.00      0.91      0.95      0.95      0.92         9\n",
            "          2       1.00      0.91      1.00      0.95      0.95      0.90        11\n",
            "\n",
            "avg / total       0.96      0.95      0.96      0.95      0.95      0.91        20\n",
            "\n"
          ]
        }
      ]
    },
    {
      "cell_type": "markdown",
      "source": [
        "SMOTE testing- balanced accuracy 0.955"
      ],
      "metadata": {
        "id": "sFrqUN6S5TQy"
      }
    },
    {
      "cell_type": "code",
      "source": [
        "from imblearn.over_sampling import SMOTE\n",
        "X_resampled, y_resampled = SMOTE(random_state=1, sampling_strategy='auto').fit_resample(\n",
        "    X_train, y_train)\n",
        "Counter(y_resampled)"
      ],
      "metadata": {
        "colab": {
          "base_uri": "https://localhost:8080/"
        },
        "id": "6ESESfNt5A22",
        "outputId": "5daf2d20-72f0-438c-f582-02f25429c9b3"
      },
      "execution_count": 58,
      "outputs": [
        {
          "output_type": "execute_result",
          "data": {
            "text/plain": [
              "Counter({1: 31, 2: 31})"
            ]
          },
          "metadata": {},
          "execution_count": 58
        }
      ]
    },
    {
      "cell_type": "code",
      "source": [
        "model = LogisticRegression(solver='lbfgs', random_state=1)\n",
        "model.fit(X_resampled, y_resampled)"
      ],
      "metadata": {
        "colab": {
          "base_uri": "https://localhost:8080/"
        },
        "id": "FiZjT-GB5JAl",
        "outputId": "9f8ef09c-7c9b-4d30-97d2-eb17e00f1647"
      },
      "execution_count": 59,
      "outputs": [
        {
          "output_type": "execute_result",
          "data": {
            "text/plain": [
              "LogisticRegression(random_state=1)"
            ]
          },
          "metadata": {},
          "execution_count": 59
        }
      ]
    },
    {
      "cell_type": "code",
      "source": [
        "y_pred = model.predict(X_test)\n",
        "balanced_accuracy_score(y_test, y_pred)"
      ],
      "metadata": {
        "colab": {
          "base_uri": "https://localhost:8080/"
        },
        "id": "2k6C6iNx5NYT",
        "outputId": "1ce4f470-f58f-4d31-8352-c0d31682f918"
      },
      "execution_count": 60,
      "outputs": [
        {
          "output_type": "execute_result",
          "data": {
            "text/plain": [
              "0.9545454545454546"
            ]
          },
          "metadata": {},
          "execution_count": 60
        }
      ]
    },
    {
      "cell_type": "code",
      "source": [
        "confusion_matrix(y_test, y_pred)"
      ],
      "metadata": {
        "colab": {
          "base_uri": "https://localhost:8080/"
        },
        "id": "DyHFUN1F5PBa",
        "outputId": "4f94a043-c3b8-4641-a81e-416c22f3ddee"
      },
      "execution_count": 61,
      "outputs": [
        {
          "output_type": "execute_result",
          "data": {
            "text/plain": [
              "array([[ 9,  0],\n",
              "       [ 1, 10]])"
            ]
          },
          "metadata": {},
          "execution_count": 61
        }
      ]
    },
    {
      "cell_type": "code",
      "source": [
        "print(classification_report_imbalanced(y_test, y_pred))"
      ],
      "metadata": {
        "colab": {
          "base_uri": "https://localhost:8080/"
        },
        "id": "ZSxDu1Wc5Q5O",
        "outputId": "9e7fbb59-5395-40db-e08f-9b6e006c201b"
      },
      "execution_count": 62,
      "outputs": [
        {
          "output_type": "stream",
          "name": "stdout",
          "text": [
            "                   pre       rec       spe        f1       geo       iba       sup\n",
            "\n",
            "          1       0.90      1.00      0.91      0.95      0.95      0.92         9\n",
            "          2       1.00      0.91      1.00      0.95      0.95      0.90        11\n",
            "\n",
            "avg / total       0.96      0.95      0.96      0.95      0.95      0.91        20\n",
            "\n"
          ]
        }
      ]
    },
    {
      "cell_type": "markdown",
      "source": [
        "SMOTEEN testing- balanced accuracy= 1"
      ],
      "metadata": {
        "id": "XB9ro1Sc5cw7"
      }
    },
    {
      "cell_type": "code",
      "source": [
        "from imblearn.combine import SMOTEENN\n",
        "\n",
        "smote_enn = SMOTEENN(random_state=0)\n",
        "X_resampled, y_resampled = smote_enn.fit_resample(X, y)\n",
        "Counter(y_resampled)"
      ],
      "metadata": {
        "colab": {
          "base_uri": "https://localhost:8080/"
        },
        "id": "q3ExBN2T5inK",
        "outputId": "c780760e-0de2-4121-a025-4667a1c24a6f"
      },
      "execution_count": 63,
      "outputs": [
        {
          "output_type": "execute_result",
          "data": {
            "text/plain": [
              "Counter({1: 29, 2: 30})"
            ]
          },
          "metadata": {},
          "execution_count": 63
        }
      ]
    },
    {
      "cell_type": "code",
      "source": [
        "model = LogisticRegression(solver='lbfgs', random_state=1)\n",
        "model.fit(X_resampled, y_resampled)"
      ],
      "metadata": {
        "colab": {
          "base_uri": "https://localhost:8080/"
        },
        "id": "5HZp5pWR5lRu",
        "outputId": "f509b430-a362-4338-f5a0-ab7f22c49f3a"
      },
      "execution_count": 64,
      "outputs": [
        {
          "output_type": "execute_result",
          "data": {
            "text/plain": [
              "LogisticRegression(random_state=1)"
            ]
          },
          "metadata": {},
          "execution_count": 64
        }
      ]
    },
    {
      "cell_type": "code",
      "source": [
        "y_pred = model.predict(X_test)\n",
        "balanced_accuracy_score(y_test, y_pred)"
      ],
      "metadata": {
        "colab": {
          "base_uri": "https://localhost:8080/"
        },
        "id": "JdmfENvW5nwT",
        "outputId": "d38ff256-fcd6-4813-e756-5f1e961f6e8d"
      },
      "execution_count": 65,
      "outputs": [
        {
          "output_type": "execute_result",
          "data": {
            "text/plain": [
              "1.0"
            ]
          },
          "metadata": {},
          "execution_count": 65
        }
      ]
    },
    {
      "cell_type": "code",
      "source": [
        "confusion_matrix(y_test, y_pred)"
      ],
      "metadata": {
        "colab": {
          "base_uri": "https://localhost:8080/"
        },
        "id": "4SFhA1QW5pZg",
        "outputId": "70ca7772-d614-4b7a-a32b-952636a1c102"
      },
      "execution_count": 66,
      "outputs": [
        {
          "output_type": "execute_result",
          "data": {
            "text/plain": [
              "array([[ 9,  0],\n",
              "       [ 0, 11]])"
            ]
          },
          "metadata": {},
          "execution_count": 66
        }
      ]
    },
    {
      "cell_type": "code",
      "source": [
        "print(classification_report_imbalanced(y_test, y_pred)) "
      ],
      "metadata": {
        "colab": {
          "base_uri": "https://localhost:8080/"
        },
        "id": "MRJzDtFh5sUZ",
        "outputId": "becfa8a6-6563-437e-f6e5-e986c42979af"
      },
      "execution_count": 67,
      "outputs": [
        {
          "output_type": "stream",
          "name": "stdout",
          "text": [
            "                   pre       rec       spe        f1       geo       iba       sup\n",
            "\n",
            "          1       1.00      1.00      1.00      1.00      1.00      1.00         9\n",
            "          2       1.00      1.00      1.00      1.00      1.00      1.00        11\n",
            "\n",
            "avg / total       1.00      1.00      1.00      1.00      1.00      1.00        20\n",
            "\n"
          ]
        }
      ]
    }
  ]
}