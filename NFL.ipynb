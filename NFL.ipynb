{
  "nbformat": 4,
  "nbformat_minor": 0,
  "metadata": {
    "colab": {
      "name": "NFL.ipynb",
      "provenance": [],
      "collapsed_sections": [],
      "authorship_tag": "ABX9TyOyw7Eh5fmZd9wA0qDoMh4d"
    },
    "kernelspec": {
      "name": "python3",
      "display_name": "Python 3"
    },
    "language_info": {
      "name": "python"
    }
  },
  "cells": [
    {
      "cell_type": "code",
      "execution_count": null,
      "metadata": {
        "colab": {
          "base_uri": "https://localhost:8080/"
        },
        "id": "xfWpPVHmZr1Z",
        "outputId": "9d545930-547d-421c-8d32-9191581a0442"
      },
      "outputs": [
        {
          "output_type": "stream",
          "name": "stdout",
          "text": [
            "\r0% [Working]\r            \rGet:1 http://ppa.launchpad.net/c2d4u.team/c2d4u4.0+/ubuntu bionic InRelease [15.9 kB]\n",
            "\r0% [Connecting to archive.ubuntu.com (91.189.91.39)] [Connecting to security.ub\r0% [Connecting to archive.ubuntu.com (91.189.91.39)] [Connecting to security.ub\r                                                                               \rGet:2 https://cloud.r-project.org/bin/linux/ubuntu bionic-cran40/ InRelease [3,626 B]\n",
            "\r0% [Connecting to archive.ubuntu.com (91.189.91.39)] [Connecting to security.ub\r                                                                               \rHit:3 http://ppa.launchpad.net/cran/libgit2/ubuntu bionic InRelease\n",
            "\r0% [Connecting to archive.ubuntu.com (91.189.91.39)] [Connecting to security.ub\r0% [1 InRelease gpgv 15.9 kB] [Connecting to archive.ubuntu.com (91.189.91.39)]\r                                                                               \rHit:4 http://ppa.launchpad.net/deadsnakes/ppa/ubuntu bionic InRelease\n",
            "\r0% [1 InRelease gpgv 15.9 kB] [Waiting for headers] [Waiting for headers] [Wait\r                                                                               \rHit:5 http://ppa.launchpad.net/graphics-drivers/ppa/ubuntu bionic InRelease\n",
            "\r0% [1 InRelease gpgv 15.9 kB] [Waiting for headers] [Waiting for headers] [Wait\r                                                                               \rHit:6 http://archive.ubuntu.com/ubuntu bionic InRelease\n",
            "\r0% [1 InRelease gpgv 15.9 kB] [Waiting for headers] [Waiting for headers] [Wait\r                                                                               \rGet:7 http://security.ubuntu.com/ubuntu bionic-security InRelease [88.7 kB]\n",
            "Get:8 http://archive.ubuntu.com/ubuntu bionic-updates InRelease [88.7 kB]\n",
            "Get:9 http://ppa.launchpad.net/c2d4u.team/c2d4u4.0+/ubuntu bionic/main Sources [2,093 kB]\n",
            "Get:10 http://ppa.launchpad.net/c2d4u.team/c2d4u4.0+/ubuntu bionic/main amd64 Packages [1,073 kB]\n",
            "Get:11 http://archive.ubuntu.com/ubuntu bionic-backports InRelease [74.6 kB]\n",
            "Ign:12 https://developer.download.nvidia.com/compute/machine-learning/repos/ubuntu1804/x86_64  InRelease\n",
            "Get:13 https://cloud.r-project.org/bin/linux/ubuntu bionic-cran40/ Packages [91.1 kB]\n",
            "Get:14 https://developer.download.nvidia.com/compute/cuda/repos/ubuntu1804/x86_64  InRelease [1,581 B]\n",
            "Hit:15 https://developer.download.nvidia.com/compute/machine-learning/repos/ubuntu1804/x86_64  Release\n",
            "Get:16 http://security.ubuntu.com/ubuntu bionic-security/main amd64 Packages [2,938 kB]\n",
            "Get:17 http://archive.ubuntu.com/ubuntu bionic-updates/main amd64 Packages [3,369 kB]\n",
            "Get:18 http://security.ubuntu.com/ubuntu bionic-security/universe amd64 Packages [1,534 kB]\n",
            "Get:19 http://archive.ubuntu.com/ubuntu bionic-updates/universe amd64 Packages [2,311 kB]\n",
            "Get:20 https://developer.download.nvidia.com/compute/cuda/repos/ubuntu1804/x86_64  Packages [910 kB]\n",
            "Fetched 14.6 MB in 4s (3,478 kB/s)\n",
            "Reading package lists... Done\n"
          ]
        }
      ],
      "source": [
        "import os\n",
        "spark_version = 'spark-3.2.2'\n",
        "os.environ['SPARK_VERSION']=spark_version\n",
        "# Install Spark and Java\n",
        "!apt-get update\n",
        "!apt-get install openjdk-11-jdk-headless -qq > /dev/null\n",
        "!wget -q http://www.apache.org/dist/spark/$SPARK_VERSION/$SPARK_VERSION-bin-hadoop3.2.tgz\n",
        "!tar xf $SPARK_VERSION-bin-hadoop3.2.tgz\n",
        "!pip install -q findspark\n",
        "# Set Environment Variables\n",
        "import os\n",
        "os.environ[\"JAVA_HOME\"] = \"/usr/lib/jvm/java-11-openjdk-amd64\"\n",
        "os.environ[\"SPARK_HOME\"] = f\"/content/{spark_version}-bin-hadoop3.2\"\n",
        "# Start a SparkSession\n",
        "import findspark\n",
        "findspark.init()"
      ]
    },
    {
      "cell_type": "code",
      "source": [
        "# Download the Postgres driver that will allow Spark to interact with Postgres.\n",
        "!wget https://jdbc.postgresql.org/download/postgresql-42.2.16.jar"
      ],
      "metadata": {
        "colab": {
          "base_uri": "https://localhost:8080/"
        },
        "id": "TMreBmxxaLu8",
        "outputId": "898c10a8-d926-4836-8830-e6e6a0c91d67"
      },
      "execution_count": null,
      "outputs": [
        {
          "output_type": "stream",
          "name": "stdout",
          "text": [
            "--2022-08-25 00:30:57--  https://jdbc.postgresql.org/download/postgresql-42.2.16.jar\n",
            "Resolving jdbc.postgresql.org (jdbc.postgresql.org)... 72.32.157.228, 2001:4800:3e1:1::228\n",
            "Connecting to jdbc.postgresql.org (jdbc.postgresql.org)|72.32.157.228|:443... connected.\n",
            "HTTP request sent, awaiting response... 200 OK\n",
            "Length: 1002883 (979K) [application/java-archive]\n",
            "Saving to: ‘postgresql-42.2.16.jar’\n",
            "\n",
            "postgresql-42.2.16. 100%[===================>] 979.38K  1.58MB/s    in 0.6s    \n",
            "\n",
            "2022-08-25 00:30:58 (1.58 MB/s) - ‘postgresql-42.2.16.jar’ saved [1002883/1002883]\n",
            "\n"
          ]
        }
      ]
    },
    {
      "cell_type": "code",
      "source": [
        "from pyspark.sql import SparkSession\n",
        "spark = SparkSession.builder.appName(\"NFL-Prediction\").config(\"spark.driver.extraClassPath\",\"/content/postgresql-42.2.16.jar\").getOrCreate()"
      ],
      "metadata": {
        "id": "3SwoiEFFaOaq"
      },
      "execution_count": null,
      "outputs": []
    },
    {
      "cell_type": "code",
      "source": [
        "from pyspark import SparkFiles\n",
        "url = \"https://nflpredictionsdataviz.s3.amazonaws.com/spreadspoke_scores.csv\"\n",
        "spark.sparkContext.addFile(url)\n",
        "NFL_Guru_df = spark.read.option(\"encoding\", \"UTF-8\").csv(SparkFiles.get(\"spreadspoke_scores.csv\"), sep=\",\", header=True, inferSchema=True)\n",
        "NFL_Guru_df.show()"
      ],
      "metadata": {
        "colab": {
          "base_uri": "https://localhost:8080/"
        },
        "id": "03nTUBGPag4c",
        "outputId": "5f19e790-dd83-46ba-ede9-a012ea1c3df0"
      },
      "execution_count": null,
      "outputs": [
        {
          "output_type": "stream",
          "name": "stdout",
          "text": [
            "+-------------+---------------+-------------+----------------+-------------------+----------+----------+--------------------+----------------+---------------+---------------+--------------------+---------------+-------------------+----------------+----------------+--------------+\n",
            "|schedule_date|schedule_season|schedule_week|schedule_playoff|          team_home|score_home|score_away|           team_away|team_favorite_id|spread_favorite|over_under_line|             stadium|stadium_neutral|weather_temperature|weather_wind_mph|weather_humidity|weather_detail|\n",
            "+-------------+---------------+-------------+----------------+-------------------+----------+----------+--------------------+----------------+---------------+---------------+--------------------+---------------+-------------------+----------------+----------------+--------------+\n",
            "|     9/2/1966|           1966|            1|           false|     Miami Dolphins|        14|        23|     Oakland Raiders|            null|           null|           null|         Orange Bowl|          false|                 83|               6|              71|          null|\n",
            "|     9/3/1966|           1966|            1|           false|     Houston Oilers|        45|         7|      Denver Broncos|            null|           null|           null|        Rice Stadium|          false|                 81|               7|              70|          null|\n",
            "|     9/4/1966|           1966|            1|           false| San Diego Chargers|        27|         7|       Buffalo Bills|            null|           null|           null|      Balboa Stadium|          false|                 70|               7|              82|          null|\n",
            "|     9/9/1966|           1966|            2|           false|     Miami Dolphins|        14|        19|       New York Jets|            null|           null|           null|         Orange Bowl|          false|                 82|              11|              78|          null|\n",
            "|    9/10/1966|           1966|            1|           false|  Green Bay Packers|        24|         3|     Baltimore Colts|            null|           null|           null|       Lambeau Field|          false|                 64|               8|              62|          null|\n",
            "|    9/10/1966|           1966|            2|           false|     Houston Oilers|        31|         0|     Oakland Raiders|            null|           null|           null|        Rice Stadium|          false|                 77|               6|              82|          null|\n",
            "|    9/10/1966|           1966|            2|           false| San Diego Chargers|        24|         0|New England Patriots|            null|           null|           null|      Balboa Stadium|          false|                 69|               9|              81|          null|\n",
            "|    9/11/1966|           1966|            1|           false|    Atlanta Falcons|        14|        19|    Los Angeles Rams|            null|           null|           null|Atlanta-Fulton Co...|          false|                 71|               7|              57|          null|\n",
            "|    9/11/1966|           1966|            2|           false|      Buffalo Bills|        20|        42|  Kansas City Chiefs|            null|           null|           null|War Memorial Stadium|          false|                 63|              11|              73|          null|\n",
            "|    9/11/1966|           1966|            1|           false|      Detroit Lions|        14|         3|       Chicago Bears|            null|           null|           null|       Tiger Stadium|          false|                 67|               7|              73|          null|\n",
            "|    9/11/1966|           1966|            1|           false|Pittsburgh Steelers|        34|        34|     New York Giants|            null|           null|           null|        Pitt Stadium|          false|                 64|               5|              70|          null|\n",
            "|    9/11/1966|           1966|            1|           false|San Francisco 49ers|        20|        20|   Minnesota Vikings|            null|           null|           null|       Kezar Stadium|          false|                 60|              25|              75|          null|\n",
            "|    9/11/1966|           1966|            1|           false|St. Louis Cardinals|        16|        13| Philadelphia Eagles|            null|           null|           null|Busch Memorial St...|          false|                 72|               5|              70|          null|\n",
            "|    9/11/1966|           1966|            1|           false|Washington Redskins|        14|        38|    Cleveland Browns|            null|           null|           null|RFK Memorial Stadium|          false|                 65|               8|              52|          null|\n",
            "|    9/16/1966|           1966|            2|           false|   Los Angeles Rams|        31|        17|       Chicago Bears|            null|           null|           null|Los Angeles Memor...|          false|                 72|              10|              52|          null|\n",
            "|    9/18/1966|           1966|            3|           false|      Buffalo Bills|        58|        24|      Miami Dolphins|            null|           null|           null|War Memorial Stadium|          false|                 61|               3|              67|          null|\n",
            "|    9/18/1966|           1966|            2|           false|   Cleveland Browns|        20|        21|   Green Bay Packers|            null|           null|           null|Cleveland Municip...|          false|                 62|               6|              57|          null|\n",
            "|    9/18/1966|           1966|            2|           false|     Dallas Cowboys|        52|         7|     New York Giants|            null|           null|           null|         Cotton Bowl|          false|                 72|               9|              82|          null|\n",
            "|    9/18/1966|           1966|            3|           false|     Denver Broncos|        10|        24|New England Patriots|            null|           null|           null|   Mile High Stadium|          false|                 59|               7|              53|          null|\n",
            "|    9/18/1966|           1966|            2|           false|  Minnesota Vikings|        23|        38|     Baltimore Colts|            null|           null|           null|Metropolitan Stadium|          false|                 60|               4|              64|          null|\n",
            "+-------------+---------------+-------------+----------------+-------------------+----------+----------+--------------------+----------------+---------------+---------------+--------------------+---------------+-------------------+----------------+----------------+--------------+\n",
            "only showing top 20 rows\n",
            "\n"
          ]
        }
      ]
    },
    {
      "cell_type": "code",
      "source": [
        "NFL_Guru_df.printSchema()"
      ],
      "metadata": {
        "colab": {
          "base_uri": "https://localhost:8080/"
        },
        "id": "6zWjOrU2bNl7",
        "outputId": "e2e1f775-2443-40df-febd-55c6a9979989"
      },
      "execution_count": null,
      "outputs": [
        {
          "output_type": "stream",
          "name": "stdout",
          "text": [
            "root\n",
            " |-- schedule_date: string (nullable = true)\n",
            " |-- schedule_season: integer (nullable = true)\n",
            " |-- schedule_week: string (nullable = true)\n",
            " |-- schedule_playoff: boolean (nullable = true)\n",
            " |-- team_home: string (nullable = true)\n",
            " |-- score_home: integer (nullable = true)\n",
            " |-- score_away: integer (nullable = true)\n",
            " |-- team_away: string (nullable = true)\n",
            " |-- team_favorite_id: string (nullable = true)\n",
            " |-- spread_favorite: double (nullable = true)\n",
            " |-- over_under_line: string (nullable = true)\n",
            " |-- stadium: string (nullable = true)\n",
            " |-- stadium_neutral: boolean (nullable = true)\n",
            " |-- weather_temperature: integer (nullable = true)\n",
            " |-- weather_wind_mph: integer (nullable = true)\n",
            " |-- weather_humidity: integer (nullable = true)\n",
            " |-- weather_detail: string (nullable = true)\n",
            "\n"
          ]
        }
      ]
    }
  ]
}